{
 "cells": [
  {
   "cell_type": "markdown",
   "metadata": {},
   "source": [
    "# <font color='red'>Carregamento</font>"
   ]
  },
  {
   "cell_type": "code",
   "execution_count": 1,
   "metadata": {},
   "outputs": [
    {
     "name": "stdout",
     "output_type": "stream",
     "text": [
      "Database carregado com sucesso!\n"
     ]
    }
   ],
   "source": [
    "# %run gear_db.ipynb\n",
    "from decorador_db_gen import db_generator\n",
    "import yaml\n",
    "import math\n",
    "import pandas as pd\n",
    "import logging\n",
    "\n",
    "with open(r'C:\\\\Pythonfundamentos\\\\Remember\\\\calculadora\\\\job_bonuses.yml') as file:\n",
    "    job_bonuses_list = yaml.load(file, Loader=yaml.FullLoader)\n",
    "    \n",
    "dbg = db_generator()\n",
    "\n",
    "equip_db = dbg.getEquip_DB()\n",
    "\n",
    "weapon_db = dbg.getWeapon_DB()\n",
    "hat_db = dbg.getHat_DB()\n",
    "shield_db = dbg.getShield_DB()\n",
    "robe_db = dbg.getRobe_DB()\n",
    "armor_db = dbg.getArmor_DB()\n",
    "shoes_db = dbg.getShoes_DB()\n",
    "acessory_db = dbg.getAcessory_DB()"
   ]
  },
  {
   "cell_type": "code",
   "execution_count": null,
   "metadata": {
    "scrolled": true
   },
   "outputs": [],
   "source": []
  },
  {
   "cell_type": "code",
   "execution_count": 73,
   "metadata": {},
   "outputs": [],
   "source": [
    "class PlayerEquips:\n",
    "    def __init__(self):\n",
    "        self.armor = 'armor'\n",
    "        self.weapon = 'weapon'\n",
    "        self.shield = 'shield'\n",
    "        self.robe = 'robe'\n",
    "        self.shoes = 'shoes'\n",
    "        self.acessory1 = 'acessory1'\n",
    "        self.acessory2 = 'acessory2'\n",
    "        self.tophat = 'tophat'\n",
    "        self.midhat = 'midhat'\n",
    "        self.lowhat = 'lowhat'\n",
    "        \n",
    "    def equip(self, gear):\n",
    "        gear_id = gear['Id']\n",
    "        showstr = ''\n",
    "        if(gear in armor_db.values()):\n",
    "            showstr += \"é uma armadura\"\n",
    "            self.armor = gear\n",
    "        if(gear in shield_db.values()):\n",
    "            showstr += \"é um escudo\"\n",
    "            self.shield = gear\n",
    "        if(gear in robe_db.values()):\n",
    "            showstr += \"é uma capa\"\n",
    "            self.robe = gear\n",
    "        if(gear in shoes_db.values()):\n",
    "            showstr += \"é uma bota\"\n",
    "            self.shoes = gear\n",
    "        if(gear in acessory_db.values()):\n",
    "            showstr += \"é um acessório\"\n",
    "        if(gear in hat_db.values()):\n",
    "            showstr += \"é um hat\"\n",
    "            print(gear['Locations'])\n",
    "            \n",
    "        print(\"{} {}\".format(gear_id, showstr))\n",
    "        \n",
    "    def print_gear(self):\n",
    "        #print('Cabeça Topo → {}'.format(self.tophat))\n",
    "        #print('Cabeça Meio → {}'.format(self.print_single_gear(self.midhat)))\n",
    "        #print('Cabeça Baixo → {}'.format(self.print_single_gear(self.lowhat)))\n",
    "        print('Armadura → {}'.format(self.print_single_gear(self.armor)))\n",
    "        if(type(self.weapon) != dict):\n",
    "            print(\"Mão direita → Nothing\")\n",
    "        else:\n",
    "            print('Mão direita → {}'.format(self.print_single_gear(self.weapon)))\n",
    "        print('Mão esquerda → {}'.format(self.print_single_gear(self.shield)))\n",
    "        print('Capa → {}'.format(self.print_single_gear(self.robe)))\n",
    "        print('Sapatos → {}'.format(self.print_single_gear(self.shoes)))\n",
    "        #print('Acessório 1 → {}'.format(self.print_single_gear(self.acessory1)))\n",
    "        #print('Acessório 2 → {}'.format(self.print_single_gear(self.acessory2)))\n",
    "        \n",
    "    def print_single_gear(self, gear):\n",
    "        outstr = ''\n",
    "        if('Refining' in gear):\n",
    "            if(gear['Refining'] != 0):\n",
    "                outstr += '+{} '.format(gear['Refining'])\n",
    "        outstr += gear['Name']\n",
    "        if('Slots' in gear):\n",
    "            if(gear['Slots'] != 0):\n",
    "                outstr += ' [{}]'.format(gear['Slots'])\n",
    "        return outstr\n",
    "    \n",
    "    def refine_single_gear(self, choosen_gear, ammount):\n",
    "        if(choosen_gear == 'armor'):\n",
    "            self.armor['Refining'] = ammount\n",
    "        if(choosen_gear == 'shield'):\n",
    "            self.shield['Refining'] = ammount\n",
    "        if(choosen_gear == 'robe'):\n",
    "            self.robe['Refining'] = ammount\n",
    "        if(choosen_gear == 'shoes'):\n",
    "            self.shoes['Refining'] = ammount\n",
    "        if(choosen_gear == 'weapon'):\n",
    "            self.weapon['Refining'] = ammount"
   ]
  },
  {
   "cell_type": "code",
   "execution_count": null,
   "metadata": {},
   "outputs": [],
   "source": []
  },
  {
   "cell_type": "code",
   "execution_count": 74,
   "metadata": {},
   "outputs": [
    {
     "name": "stdout",
     "output_type": "stream",
     "text": [
      "2504 é uma capa\n",
      "2407 é uma bota\n",
      "2102 é um escudo\n",
      "2322 é uma armadura\n",
      "{'Head_Top': True}\n",
      "2289 é um hat\n",
      "\n",
      "Armadura → +7 Silk Robe [1]\n",
      "Mão direita → Nothing\n",
      "Mão esquerda → +7 Guard [1]\n",
      "Capa → +5 Muffler [1]\n",
      "Sapatos → +7 Crystal Pumps\n"
     ]
    }
   ],
   "source": [
    "pe = PlayerEquips()\n",
    "\n",
    "pe.equip(equip_db[2504])\n",
    "pe.refine_single_gear('robe', 5)\n",
    "\n",
    "pe.equip(equip_db[2407])\n",
    "pe.refine_single_gear('shoes', 7)\n",
    "\n",
    "pe.equip(equip_db[2102])\n",
    "pe.refine_single_gear('shield', 7)\n",
    "\n",
    "pe.equip(equip_db[2322])\n",
    "pe.refine_single_gear('armor', 7)\n",
    "\n",
    "pe.equip(equip_db[2289])\n",
    "\n",
    "print(\"\")\n",
    "\n",
    "pe.print_gear()"
   ]
  },
  {
   "cell_type": "code",
   "execution_count": 60,
   "metadata": {},
   "outputs": [
    {
     "data": {
      "text/plain": [
       "{'Id': 2504,\n",
       " 'AegisName': 'Muffler_',\n",
       " 'Name': 'Muffler',\n",
       " 'Type': 'Armor',\n",
       " 'Buy': 5000,\n",
       " 'Weight': 400,\n",
       " 'Defense': 2,\n",
       " 'Slots': 1,\n",
       " 'Jobs': {'All': True, 'Novice': False, 'SuperNovice': False},\n",
       " 'Locations': {'Garment': True},\n",
       " 'Refineable': True,\n",
       " 'Classes': {'All': True},\n",
       " 'Gender': 'Both',\n",
       " 'EquipLevelMin': 0,\n",
       " 'View': 0,\n",
       " 'Script': 0,\n",
       " 'Refining': 5}"
      ]
     },
     "execution_count": 60,
     "metadata": {},
     "output_type": "execute_result"
    }
   ],
   "source": [
    "equip_db[2504]"
   ]
  },
  {
   "cell_type": "code",
   "execution_count": null,
   "metadata": {},
   "outputs": [],
   "source": []
  },
  {
   "cell_type": "code",
   "execution_count": null,
   "metadata": {},
   "outputs": [],
   "source": []
  },
  {
   "cell_type": "code",
   "execution_count": null,
   "metadata": {},
   "outputs": [],
   "source": []
  },
  {
   "cell_type": "code",
   "execution_count": null,
   "metadata": {},
   "outputs": [],
   "source": []
  },
  {
   "cell_type": "code",
   "execution_count": null,
   "metadata": {},
   "outputs": [],
   "source": []
  },
  {
   "cell_type": "code",
   "execution_count": null,
   "metadata": {},
   "outputs": [],
   "source": [
    "class Equip:\n",
    "    def __init__(self, unique_id, name, main_type, subtype, weight, base_attack, slots, joblist, weapon_level, min_level, refineable):\n",
    "        print(\"olá\")"
   ]
  },
  {
   "cell_type": "code",
   "execution_count": null,
   "metadata": {},
   "outputs": [],
   "source": []
  },
  {
   "cell_type": "code",
   "execution_count": null,
   "metadata": {},
   "outputs": [],
   "source": []
  },
  {
   "cell_type": "code",
   "execution_count": null,
   "metadata": {},
   "outputs": [],
   "source": []
  },
  {
   "cell_type": "code",
   "execution_count": null,
   "metadata": {},
   "outputs": [],
   "source": []
  },
  {
   "cell_type": "code",
   "execution_count": null,
   "metadata": {},
   "outputs": [],
   "source": []
  },
  {
   "cell_type": "code",
   "execution_count": null,
   "metadata": {},
   "outputs": [],
   "source": []
  },
  {
   "cell_type": "code",
   "execution_count": null,
   "metadata": {},
   "outputs": [],
   "source": [
    "class PlayerBuild:\n",
    "    def __init__(self, base_level, job_level, current_job, statbuild):\n",
    "        self.base_level = base_level\n",
    "        self.job_level = job_level\n",
    "        self.current_job = current_job\n",
    "        self.statbuild = statbuild\n",
    "        self.str = statbuild[0];\tself.str_bonus = 0;\tself.core_str = self.str\n",
    "        self.agi = statbuild[1];\tself.agi_bonus = 0;\tself.core_agi = self.agi\n",
    "        self.vit = statbuild[2];\tself.vit_bonus = 0;\tself.core_vit = self.vit\n",
    "        self.int = statbuild[3];\tself.int_bonus = 0;\tself.core_int = self.int\n",
    "        self.dex = statbuild[4];\tself.dex_bonus = 0;\tself.core_dex = self.dex\n",
    "        self.luk = statbuild[5];\tself.luk_bonus = 0;\tself.core_luk = self.luk\n",
    "        \n",
    "        #arquivos\n",
    "        self.hp_df = pd.read_csv ('max_hp_table.csv')\n",
    "        self.job_bonuses = job_bonuses_list[current_job]['FULL_BONUSES']\n",
    "        self.max_job = job_bonuses_list[current_job]['MAX_JOB']\n",
    "        \n",
    "        # status com o ajuste do job\n",
    "        self.str_bonus = self.evaluate_stat_bonus(self.job_level, job_bonuses_list[current_job]['STR'])\n",
    "        self.agi_bonus = self.evaluate_stat_bonus(self.job_level, job_bonuses_list[current_job]['AGI'])\n",
    "        self.vit_bonus = self.evaluate_stat_bonus(self.job_level, job_bonuses_list[current_job]['VIT'])\n",
    "        self.int_bonus = self.evaluate_stat_bonus(self.job_level, job_bonuses_list[current_job]['INT'])\n",
    "        self.dex_bonus = self.evaluate_stat_bonus(self.job_level, job_bonuses_list[current_job]['DEX'])\n",
    "        self.luk_bonus = self.evaluate_stat_bonus(self.job_level, job_bonuses_list[current_job]['LUK'])\n",
    "        \n",
    "        # somatórios de status\n",
    "        self.str += self.str_bonus; self.agi += self.agi_bonus; self.vit += self.vit_bonus;\n",
    "        self.int += self.int_bonus; self.dex += self.dex_bonus; self.luk += self.luk_bonus;\n",
    "        \n",
    "        # esquiva\n",
    "        self.flee_bonuses = 0\n",
    "        self.flee = self.agi + self.flee_bonuses + self.base_level\n",
    "        self.perfect_dodge_bonuses = 0\n",
    "        self.perfect_flee = 1 + math.floor(1/10*self.luk) + self.perfect_dodge_bonuses\n",
    "        \n",
    "        # precisão\n",
    "        self.hit_bonuses = 0\n",
    "        self.hit = self.dex + self.hit_bonuses + self.base_level\n",
    "        \n",
    "        # crítico\n",
    "        self.crit_bonuses = 0\n",
    "        self.crit_rate = 1 + math.floor(1/3*self.luk + self.crit_bonuses)\n",
    "        self.crit_target_luk = 0\n",
    "        self.crit_finalrate = self.crit_rate - (self.crit_target_luk*0.2)\n",
    "        \n",
    "        # cálculo do HP\n",
    "        self.trans_mod = 1\n",
    "        self.aditive_modifiers = 0\n",
    "        self.multiplicative_modifiers = 0\n",
    "        self.base_hp = list(self.hp_df[self.current_job])[self.base_level]\n",
    "        self.max_hp = self.calculate_max_hp()\n",
    "        \n",
    "        # cálculo do SP\n",
    "        self.sp_mod_a = 0\n",
    "        self.sp_mod_b = 0\n",
    "        self.max_sp = self.calculate_max_sp()\n",
    "        \n",
    "    def calculate_base_hp(self):\n",
    "        hp_base_table = {\"novice\": (0, 5), \"super_novice\": (0, 5), \"swordsman\": (0.7, 5), \"archer\": (0.5, 5), \"thief\": (0.5, 5), \"acolyte\": (0.4, 5), \"merchant\": (0.4, 5), \"mage\": (0.3, 5), \"knight\": (1.5, 5), \"hunter\": (0.85, 5), \"assassin\": (1.1, 5), \"priest\": (0.75, 5), \"blacksmith\": (0.9, 5), \"wizard\": (0.55, 5), \"crusader\": (1.1, 7), \"dancer\": (0.75, 3), \"bard\": (0.75, 3), \"rogue\": (0.85, 5), \"monk\": (0.9, 6.5), \"alchemist\": (0.9, 5), \"sage\": (0.75, 5)}\n",
    "        hp_job_a = hp_base_table[self.current_job][0]\n",
    "        hp_job_b = hp_base_table[self.current_job][1]\n",
    "        base_hp = 35 + (self.base_level * hp_job_b)\n",
    "        for i in range(2, self.base_level + 1):\n",
    "            base_hp = base_hp + round(hp_job_a * i)\n",
    "        return (base_hp)\n",
    "    \n",
    "    def calculate_max_hp(self):\n",
    "        max_hp = math.floor(self.base_hp * (1+(0.01*self.vit)))\n",
    "        max_hp += self.aditive_modifiers\n",
    "        max_hp = math.floor(max_hp * (1 + (self.multiplicative_modifiers*0.01)))\n",
    "        return max_hp\n",
    "    \n",
    "    def calculate_max_sp(self):\n",
    "        sp_base_table = {\"novice\": (1), \"super_novice\": (1), \"swordsman\": (2), \"archer\": (2), \"thief\": (2), \"acolyte\": (5), \"merchant\": (3), \"mage\": (6), \"knight\": (3), \"hunter\": (4), \"assassin\": (4), \"priest\": (8), \"blacksmith\": (4), \"wizard\": (9), \"crusader\": (4.7), \"dancer\": (6), \"bard\": (6), \"rogue\": (5), \"monk\": (4.7), \"alchemist\": (4), \"sage\": (7)}\n",
    "        base_sp = 10\n",
    "        base_sp += math.floor(self.base_level * sp_base_table[self.current_job])\n",
    "        max_sp = base_sp\n",
    "        max_sp = math.floor(max_sp * (1 + (self.int*0.01)))\n",
    "        max_sp += self.sp_mod_a\n",
    "        max_sp = math.floor(max_sp * (1 + (self.sp_mod_b * 0.01)))\n",
    "        return max_sp\n",
    "    \n",
    "    def evaluate_stat_bonus(self, job_level, stat_array):\n",
    "        if(not stat_array):\n",
    "            return 0\n",
    "        for i in range(len(stat_array) -1, -1, -1):\n",
    "            k = i + 1\n",
    "            if(job_level >= stat_array[i]):\n",
    "                break\n",
    "        return k\n",
    "    \n",
    "    def printbuild(self):\n",
    "        if(self.str_bonus == 0):\n",
    "            print(\"\t[str] → {}\".format(self.core_str))\n",
    "        else:\n",
    "            print('\t[str] → {} +{}'.format(self.core_str, self.str_bonus))\n",
    "            \n",
    "        if(self.agi_bonus == 0):\n",
    "            print(\"\t[agi] → {}\".format(self.core_agi))\n",
    "        else:\n",
    "            print('\t[agi] → {} +{}'.format(self.core_agi, self.agi_bonus))\n",
    "            \n",
    "        if(self.vit_bonus == 0):\n",
    "            print(\"\t[vit] → {}\".format(self.core_vit))\n",
    "        else:\n",
    "            print('\t[vit] → {} +{}'.format(self.core_vit, self.vit_bonus))\n",
    "            \n",
    "        if(self.int_bonus == 0):\n",
    "            print(\"\t[int] → {}\".format(self.core_int))\n",
    "        else:\n",
    "            print('\t[int] → {} +{}'.format(self.core_int, self.int_bonus))\n",
    "            \n",
    "        if(self.dex_bonus == 0):\n",
    "            print(\"\t[dex] → {}\".format(self.core_dex))\n",
    "        else:\n",
    "            print('\t[dex] → {} +{}'.format(self.core_dex, self.dex_bonus))\n",
    "            \n",
    "        if(self.luk_bonus == 0):\n",
    "            print(\"\t[luk] → {}\".format(self.core_luk))\n",
    "        else:\n",
    "            print('\t[luk] → {} +{}'.format(self.core_luk, self.luk_bonus))\n",
    "        "
   ]
  },
  {
   "cell_type": "code",
   "execution_count": null,
   "metadata": {},
   "outputs": [],
   "source": [
    "p1 = PlayerBuild(99, 50, 'assassin', [1, 1, 1, 1, 1, 30])\n",
    "print(\"max_hp → {}\".format(p1.max_hp))\n",
    "print(\"max_sp → {}\".format(p1.max_sp))\n",
    "p1.printbuild()\n",
    "print(\"hit → {}\".format(p1.hit))\n",
    "print(\"flee → {} +{}\".format(p1.flee, p1.perfect_flee))\n",
    "print(\"critical → {}\".format(p1.crit_rate))"
   ]
  },
  {
   "cell_type": "code",
   "execution_count": null,
   "metadata": {},
   "outputs": [],
   "source": []
  },
  {
   "cell_type": "markdown",
   "metadata": {},
   "source": [
    "# <font color='red'>Criar sistema de escudos</font>"
   ]
  },
  {
   "cell_type": "code",
   "execution_count": null,
   "metadata": {},
   "outputs": [],
   "source": []
  },
  {
   "cell_type": "code",
   "execution_count": null,
   "metadata": {},
   "outputs": [],
   "source": []
  },
  {
   "cell_type": "code",
   "execution_count": null,
   "metadata": {},
   "outputs": [],
   "source": []
  },
  {
   "cell_type": "code",
   "execution_count": null,
   "metadata": {},
   "outputs": [],
   "source": []
  },
  {
   "cell_type": "code",
   "execution_count": null,
   "metadata": {},
   "outputs": [],
   "source": []
  },
  {
   "cell_type": "code",
   "execution_count": null,
   "metadata": {},
   "outputs": [],
   "source": []
  },
  {
   "cell_type": "code",
   "execution_count": null,
   "metadata": {},
   "outputs": [],
   "source": []
  },
  {
   "cell_type": "code",
   "execution_count": null,
   "metadata": {},
   "outputs": [],
   "source": []
  },
  {
   "cell_type": "code",
   "execution_count": null,
   "metadata": {},
   "outputs": [],
   "source": []
  },
  {
   "cell_type": "code",
   "execution_count": null,
   "metadata": {},
   "outputs": [],
   "source": []
  },
  {
   "cell_type": "code",
   "execution_count": null,
   "metadata": {},
   "outputs": [],
   "source": []
  },
  {
   "cell_type": "code",
   "execution_count": null,
   "metadata": {},
   "outputs": [],
   "source": []
  },
  {
   "cell_type": "code",
   "execution_count": null,
   "metadata": {},
   "outputs": [],
   "source": []
  },
  {
   "cell_type": "code",
   "execution_count": null,
   "metadata": {},
   "outputs": [],
   "source": []
  },
  {
   "cell_type": "code",
   "execution_count": null,
   "metadata": {},
   "outputs": [],
   "source": []
  },
  {
   "cell_type": "code",
   "execution_count": null,
   "metadata": {},
   "outputs": [],
   "source": []
  },
  {
   "cell_type": "code",
   "execution_count": null,
   "metadata": {},
   "outputs": [],
   "source": []
  },
  {
   "cell_type": "code",
   "execution_count": null,
   "metadata": {},
   "outputs": [],
   "source": []
  },
  {
   "cell_type": "code",
   "execution_count": null,
   "metadata": {},
   "outputs": [],
   "source": []
  },
  {
   "cell_type": "code",
   "execution_count": null,
   "metadata": {},
   "outputs": [],
   "source": []
  },
  {
   "cell_type": "code",
   "execution_count": null,
   "metadata": {},
   "outputs": [],
   "source": []
  },
  {
   "cell_type": "code",
   "execution_count": null,
   "metadata": {},
   "outputs": [],
   "source": []
  },
  {
   "cell_type": "code",
   "execution_count": null,
   "metadata": {},
   "outputs": [],
   "source": []
  },
  {
   "cell_type": "code",
   "execution_count": null,
   "metadata": {},
   "outputs": [],
   "source": []
  }
 ],
 "metadata": {
  "kernelspec": {
   "display_name": "Python 3",
   "language": "python",
   "name": "python3"
  },
  "language_info": {
   "codemirror_mode": {
    "name": "ipython",
    "version": 3
   },
   "file_extension": ".py",
   "mimetype": "text/x-python",
   "name": "python",
   "nbconvert_exporter": "python",
   "pygments_lexer": "ipython3",
   "version": "3.7.3"
  }
 },
 "nbformat": 4,
 "nbformat_minor": 2
}
