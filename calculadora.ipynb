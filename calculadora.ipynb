{
 "cells": [
  {
   "cell_type": "markdown",
   "metadata": {},
   "source": [
    "# <font color='red'>Objetos</font>"
   ]
  },
  {
   "cell_type": "code",
   "execution_count": 1,
   "metadata": {},
   "outputs": [],
   "source": [
    "import yaml\n",
    "import math\n",
    "import pandas as pd\n",
    "\n",
    "with open(r'C:\\Pythonfundamentos\\Remember\\calculadora\\item_db_equip.yml') as file:\n",
    "    # The FullLoader parameter handles the conversion from YAML\n",
    "    # scalar values to Python the dictionary format\n",
    "    equip_list = yaml.load(file, Loader=yaml.FullLoader)\n",
    "    equip_main_dict = equip_list['Body']\n",
    "    equip_database = dict()\n",
    "\n",
    "    for i in range(len(equip_main_dict)):\n",
    "        equip_database[equip_main_dict[i]['Id']] = equip_main_dict[i]\n",
    "    \n",
    "    def load_equip_details(equip_position):\n",
    "        equip_example = []\n",
    "        equip_quick_dict = equip_main_dict[equip_position]                                \n",
    "        equip_example.append(equip_quick_dict['Id'])\n",
    "        equip_example.append(equip_quick_dict['Name'])\n",
    "        equip_example.append(equip_quick_dict['Type'])\n",
    "        equip_example.append(equip_quick_dict['SubType'])\n",
    "        equip_example.append(equip_quick_dict['Weight'])\n",
    "        equip_example.append(equip_quick_dict['Attack'])\n",
    "        equip_example.append(equip_quick_dict['Slots'])\n",
    "        equip_example.append(equip_quick_dict['Locations'])\n",
    "        equip_example.append(equip_quick_dict['Jobs'])\n",
    "        equip_example.append(equip_quick_dict['WeaponLevel'])\n",
    "        equip_example.append(equip_quick_dict['EquipLevelMin'])\n",
    "        equip_example.append(equip_quick_dict['Refineable'])\n",
    "        return equip_example\n",
    "    \n",
    "with open(r'C:\\Pythonfundamentos\\Remember\\calculadora\\job_bonuses.yml') as file:\n",
    "    job_bonuses_list = yaml.load(file, Loader=yaml.FullLoader)"
   ]
  },
  {
   "cell_type": "code",
   "execution_count": 2,
   "metadata": {},
   "outputs": [
    {
     "data": {
      "text/plain": [
       "dict_keys(['knight', 'hunter', 'assassin', 'priest', 'blacksmith', 'wizard', 'crusader', 'dancer', 'bard', 'rogue', 'monk', 'alchemist', 'sage', 'novice', 'super_novice', 'swordsman', 'archer', 'thief', 'acolyte', 'merchant', 'mage'])"
      ]
     },
     "execution_count": 2,
     "metadata": {},
     "output_type": "execute_result"
    }
   ],
   "source": [
    "job_bonuses_list.keys()"
   ]
  },
  {
   "cell_type": "code",
   "execution_count": 3,
   "metadata": {},
   "outputs": [
    {
     "data": {
      "text/plain": [
       "[8, 2, 10, 0, 6, 4]"
      ]
     },
     "execution_count": 3,
     "metadata": {},
     "output_type": "execute_result"
    }
   ],
   "source": [
    "job_bonuses_list['knight']['FULL_BONUSES']"
   ]
  },
  {
   "cell_type": "code",
   "execution_count": null,
   "metadata": {},
   "outputs": [],
   "source": []
  },
  {
   "cell_type": "code",
   "execution_count": 4,
   "metadata": {},
   "outputs": [],
   "source": [
    "class Equip:\n",
    "    def __init__(self, unique_id, name, main_type, subtype, weight, base_attack, slots, joblist, weapon_level, min_level, refineable):\n",
    "        print(\"olá\")"
   ]
  },
  {
   "cell_type": "code",
   "execution_count": null,
   "metadata": {},
   "outputs": [],
   "source": []
  },
  {
   "cell_type": "code",
   "execution_count": null,
   "metadata": {},
   "outputs": [],
   "source": []
  },
  {
   "cell_type": "code",
   "execution_count": null,
   "metadata": {},
   "outputs": [],
   "source": []
  },
  {
   "cell_type": "code",
   "execution_count": null,
   "metadata": {},
   "outputs": [],
   "source": []
  },
  {
   "cell_type": "code",
   "execution_count": null,
   "metadata": {},
   "outputs": [],
   "source": []
  },
  {
   "cell_type": "code",
   "execution_count": null,
   "metadata": {},
   "outputs": [],
   "source": []
  },
  {
   "cell_type": "code",
   "execution_count": 5,
   "metadata": {},
   "outputs": [],
   "source": [
    "class PlayerBuild:\n",
    "    def __init__(self, base_level, job_level, current_job, statbuild):\n",
    "        self.base_level = base_level\n",
    "        self.job_level = job_level\n",
    "        self.current_job = current_job\n",
    "        self.statbuild = statbuild\n",
    "        self.str = statbuild[0];\tself.str_bonus = 0;\tself.core_str = self.str\n",
    "        self.agi = statbuild[1];\tself.agi_bonus = 0;\tself.core_agi = self.agi\n",
    "        self.vit = statbuild[2];\tself.vit_bonus = 0;\tself.core_vit = self.vit\n",
    "        self.int = statbuild[3];\tself.int_bonus = 0;\tself.core_int = self.int\n",
    "        self.dex = statbuild[4];\tself.dex_bonus = 0;\tself.core_dex = self.dex\n",
    "        self.luk = statbuild[5];\tself.luk_bonus = 0;\tself.core_luk = self.luk\n",
    "        \n",
    "        #arquivos\n",
    "        self.hp_df = pd.read_csv ('max_hp_table.csv')\n",
    "        self.job_bonuses = job_bonuses_list[current_job]['FULL_BONUSES']\n",
    "        self.max_job = job_bonuses_list[current_job]['MAX_JOB']\n",
    "        \n",
    "        # status com o ajuste do job\n",
    "        self.str_bonus = self.evaluate_stat_bonus(self.job_level, job_bonuses_list[current_job]['STR'])\n",
    "        self.agi_bonus = self.evaluate_stat_bonus(self.job_level, job_bonuses_list[current_job]['AGI'])\n",
    "        self.vit_bonus = self.evaluate_stat_bonus(self.job_level, job_bonuses_list[current_job]['VIT'])\n",
    "        self.int_bonus = self.evaluate_stat_bonus(self.job_level, job_bonuses_list[current_job]['INT'])\n",
    "        self.dex_bonus = self.evaluate_stat_bonus(self.job_level, job_bonuses_list[current_job]['DEX'])\n",
    "        self.luk_bonus = self.evaluate_stat_bonus(self.job_level, job_bonuses_list[current_job]['LUK'])\n",
    "        \n",
    "        # somatórios de status\n",
    "        self.str += self.str_bonus; self.agi += self.agi_bonus; self.vit += self.vit_bonus;\n",
    "        self.int += self.int_bonus; self.dex += self.dex_bonus; self.luk += self.luk_bonus;\n",
    "        \n",
    "        # esquiva\n",
    "        self.flee_bonuses = 0\n",
    "        self.flee = self.agi + self.flee_bonuses + self.base_level\n",
    "        self.perfect_flee = 1\n",
    "        \n",
    "        # precisão\n",
    "        self.hit_bonuses = 0\n",
    "        self.hit = self.dex + self.hit_bonuses + self.base_level\n",
    "        \n",
    "        # crítico\n",
    "        self.crit_bonuses = 0\n",
    "        self.crit_rate = 1 + math.floor(1/3*self.luk + self.crit_bonuses)\n",
    "        self.crit_target_luk = 0\n",
    "        self.crit_finalrate = self.crit_rate - (self.crit_target_luk*0.2)\n",
    "        \n",
    "        # cálculo do HP\n",
    "        self.trans_mod = 1\n",
    "        self.aditive_modifiers = 0\n",
    "        self.multiplicative_modifiers = 0\n",
    "        self.base_hp = list(self.hp_df[self.current_job])[self.base_level]\n",
    "        self.max_hp = self.calculate_max_hp()\n",
    "        \n",
    "        # cálculo do SP\n",
    "        self.sp_mod_a = 0\n",
    "        self.sp_mod_b = 0\n",
    "        self.max_sp = self.calculate_max_sp()\n",
    "        \n",
    "    def calculate_base_hp(self):\n",
    "        hp_base_table = {\"novice\": (0, 5), \"super_novice\": (0, 5), \"swordsman\": (0.7, 5), \"archer\": (0.5, 5), \"thief\": (0.5, 5), \"acolyte\": (0.4, 5), \"merchant\": (0.4, 5), \"mage\": (0.3, 5), \"knight\": (1.5, 5), \"hunter\": (0.85, 5), \"assassin\": (1.1, 5), \"priest\": (0.75, 5), \"blacksmith\": (0.9, 5), \"wizard\": (0.55, 5), \"crusader\": (1.1, 7), \"dancer\": (0.75, 3), \"bard\": (0.75, 3), \"rogue\": (0.85, 5), \"monk\": (0.9, 6.5), \"alchemist\": (0.9, 5), \"sage\": (0.75, 5)}\n",
    "        hp_job_a = hp_base_table[self.current_job][0]\n",
    "        hp_job_b = hp_base_table[self.current_job][1]\n",
    "        base_hp = 35 + (self.base_level * hp_job_b)\n",
    "        for i in range(2, self.base_level + 1):\n",
    "            base_hp = base_hp + round(hp_job_a * i)\n",
    "        return (base_hp)\n",
    "    \n",
    "    def calculate_max_hp(self):\n",
    "        max_hp = math.floor(self.base_hp * (1+(0.01*self.vit)))\n",
    "        max_hp += self.aditive_modifiers\n",
    "        max_hp = math.floor(max_hp * (1 + (self.multiplicative_modifiers*0.01)))\n",
    "        return max_hp\n",
    "    \n",
    "    def calculate_max_sp(self):\n",
    "        sp_base_table = {\"novice\": (1), \"super_novice\": (1), \"swordsman\": (2), \"archer\": (2), \"thief\": (2), \"acolyte\": (5), \"merchant\": (3), \"mage\": (6), \"knight\": (3), \"hunter\": (4), \"assassin\": (4), \"priest\": (8), \"blacksmith\": (4), \"wizard\": (9), \"crusader\": (4.7), \"dancer\": (6), \"bard\": (6), \"rogue\": (5), \"monk\": (4.7), \"alchemist\": (4), \"sage\": (7)}\n",
    "        base_sp = 10\n",
    "        base_sp += math.floor(self.base_level * sp_base_table[self.current_job])\n",
    "        max_sp = base_sp\n",
    "        max_sp = math.floor(max_sp * (1 + (self.int*0.01)))\n",
    "        max_sp += self.sp_mod_a\n",
    "        max_sp = math.floor(max_sp * (1 + (self.sp_mod_b * 0.01)))\n",
    "        return max_sp\n",
    "    \n",
    "    def evaluate_stat_bonus(self, job_level, stat_array):\n",
    "        if(not stat_array):\n",
    "            return 0\n",
    "        for i in range(len(stat_array) -1, -1, -1):\n",
    "            k = i + 1\n",
    "            if(job_level >= stat_array[i]):\n",
    "                break\n",
    "        return k\n",
    "    \n",
    "    def printbuild(self):\n",
    "        if(self.str_bonus == 0):\n",
    "            print(\"\t[str] → {}\".format(self.core_str))\n",
    "        else:\n",
    "            print('\t[str] → {} +{}'.format(self.core_str, self.str_bonus))\n",
    "            \n",
    "        if(self.agi_bonus == 0):\n",
    "            print(\"\t[agi] → {}\".format(self.core_agi))\n",
    "        else:\n",
    "            print('\t[agi] → {} +{}'.format(self.core_agi, self.agi_bonus))\n",
    "            \n",
    "        if(self.vit_bonus == 0):\n",
    "            print(\"\t[vit] → {}\".format(self.core_vit))\n",
    "        else:\n",
    "            print('\t[vit] → {} +{}'.format(self.core_vit, self.vit_bonus))\n",
    "            \n",
    "        if(self.int_bonus == 0):\n",
    "            print(\"\t[int] → {}\".format(self.core_int))\n",
    "        else:\n",
    "            print('\t[int] → {} +{}'.format(self.core_int, self.int_bonus))\n",
    "            \n",
    "        if(self.dex_bonus == 0):\n",
    "            print(\"\t[dex] → {}\".format(self.core_dex))\n",
    "        else:\n",
    "            print('\t[dex] → {} +{}'.format(self.core_dex, self.dex_bonus))\n",
    "            \n",
    "        if(self.luk_bonus == 0):\n",
    "            print(\"\t[luk] → {}\".format(self.core_luk))\n",
    "        else:\n",
    "            print('\t[luk] → {} +{}'.format(self.core_luk, self.luk_bonus))\n",
    "        "
   ]
  },
  {
   "cell_type": "code",
   "execution_count": 6,
   "metadata": {},
   "outputs": [
    {
     "name": "stdout",
     "output_type": "stream",
     "text": [
      "max_hp → 6158\n",
      "max_sp → 426\n",
      "\t[str] → 1 +6\n",
      "\t[agi] → 1 +10\n",
      "\t[vit] → 1 +2\n",
      "\t[int] → 1 +4\n",
      "\t[dex] → 1 +8\n",
      "\t[luk] → 30\n",
      "hit → 108\n",
      "flee → 110 +1\n",
      "critical → 11\n"
     ]
    }
   ],
   "source": [
    "p1 = PlayerBuild(99, 50, 'assassin', [1, 1, 1, 1, 1, 30])\n",
    "print(\"max_hp → {}\".format(p1.max_hp))\n",
    "print(\"max_sp → {}\".format(p1.max_sp))\n",
    "p1.printbuild()\n",
    "print(\"hit → {}\".format(p1.hit))\n",
    "print(\"flee → {} +{}\".format(p1.flee, p1.perfect_flee))\n",
    "print(\"critical → {}\".format(p1.crit_rate))"
   ]
  },
  {
   "cell_type": "code",
   "execution_count": null,
   "metadata": {},
   "outputs": [],
   "source": []
  },
  {
   "cell_type": "markdown",
   "metadata": {},
   "source": [
    "# <font color='red'>Criar sistema de escudos</font>"
   ]
  },
  {
   "cell_type": "code",
   "execution_count": null,
   "metadata": {},
   "outputs": [],
   "source": []
  },
  {
   "cell_type": "code",
   "execution_count": 7,
   "metadata": {},
   "outputs": [
    {
     "data": {
      "text/plain": [
       "{'Id': 2102,\n",
       " 'AegisName': 'Guard_',\n",
       " 'Name': 'Guard',\n",
       " 'Type': 'Armor',\n",
       " 'Buy': 500,\n",
       " 'Weight': 300,\n",
       " 'Defense': 3,\n",
       " 'Slots': 1,\n",
       " 'Locations': {'Left_Hand': True},\n",
       " 'Refineable': True,\n",
       " 'View': 1}"
      ]
     },
     "execution_count": 7,
     "metadata": {},
     "output_type": "execute_result"
    }
   ],
   "source": [
    "equip_database[2102]"
   ]
  },
  {
   "cell_type": "code",
   "execution_count": 8,
   "metadata": {},
   "outputs": [
    {
     "data": {
      "text/plain": [
       "{'Id': 2114,\n",
       " 'AegisName': 'Stone_Buckler',\n",
       " 'Name': 'Stone Buckler',\n",
       " 'Type': 'Armor',\n",
       " 'Buy': 30000,\n",
       " 'Weight': 1500,\n",
       " 'Defense': 3,\n",
       " 'Slots': 1,\n",
       " 'Jobs': {'All': True, 'Novice': False, 'SuperNovice': False},\n",
       " 'Locations': {'Left_Hand': True},\n",
       " 'EquipLevelMin': 65,\n",
       " 'Refineable': True,\n",
       " 'View': 2,\n",
       " 'Script': 'bonus2 bSubSize,Size_Large,5;\\n'}"
      ]
     },
     "execution_count": 8,
     "metadata": {},
     "output_type": "execute_result"
    }
   ],
   "source": [
    "equip_database[2114]"
   ]
  },
  {
   "cell_type": "code",
   "execution_count": 83,
   "metadata": {},
   "outputs": [],
   "source": [
    "class Shield:\n",
    "    def __init__(self, shield_id, name = '', weight = 0, defense = 0, slots = 0, jobs = {'All': True}, classes = {'All': True}, gender = 'Both', locations = 'None', equipLevelMin = 0, refineable = False, view = 0, script = \"\"):\n",
    "        self.shield_id = shield_id\n",
    "        self.name = name\n",
    "        self.weight = weight\n",
    "        self.defense = defense\n",
    "        self.slots = slots\n",
    "        self.jobs = jobs\n",
    "        self.classes = classes\n",
    "        self.gender = gender\n",
    "        self.locations = locations\n",
    "        self.equipLevelMin = equipLevelMin\n",
    "        self.refineable = refineable\n",
    "        self.view = view\n",
    "        self.script = script\n",
    "        \n",
    "        default_param = ['', 0, 0, 0, {'All': True}, {'All': True}, 'Both', 'None', 0, False, 0, '']\n",
    "        \n",
    "    def show_param(self):\n",
    "        print('shield_id → {}'.format(self.shield_id)); print('name → {}'.format(self.name)); print('weight → {}'.format(self.weight)); print('defense → {}'.format(self.defense)); print('slots → {}'.format(self.slots)); print('jobs → {}'.format(self.jobs)); print('classes → {}'.format(self.classes)); print('gender → {}'.format(self.gender)); print('locations → {}'.format(self.locations)); print('equipLevelMin → {}'.format(self.equipLevelMin)); print('refineable → {}'.format(self.refineable)); print('view → {}'.format(self.view)); print('script → {}'.format(self.script)); \n",
    "        \n",
    "        \n",
    "s1 = Shield(234)"
   ]
  },
  {
   "cell_type": "code",
   "execution_count": null,
   "metadata": {},
   "outputs": [],
   "source": []
  },
  {
   "cell_type": "code",
   "execution_count": null,
   "metadata": {},
   "outputs": [],
   "source": []
  },
  {
   "cell_type": "code",
   "execution_count": null,
   "metadata": {},
   "outputs": [],
   "source": []
  },
  {
   "cell_type": "code",
   "execution_count": null,
   "metadata": {},
   "outputs": [],
   "source": []
  },
  {
   "cell_type": "code",
   "execution_count": 118,
   "metadata": {},
   "outputs": [
    {
     "name": "stdout",
     "output_type": "stream",
     "text": [
      "id = 2101\n",
      "conteúdo → {'Id': 2101, 'AegisName': 'Guard', 'Name': 'Guard', 'Type': 'Armor', 'Buy': 500, 'Weight': 300, 'Defense': 3, 'Locations': {'Left_Hand': True}, 'Refineable': True, 'View': 1}\n",
      "\n",
      "id = 2102\n",
      "conteúdo → {'Id': 2102, 'AegisName': 'Guard_', 'Name': 'Guard', 'Type': 'Armor', 'Buy': 500, 'Weight': 300, 'Defense': 3, 'Slots': 1, 'Locations': {'Left_Hand': True}, 'Refineable': True, 'View': 1, 'Jobs': {'All': True}, 'Classes': {'All': True}, 'Gender': 'Both', 'EquipLevelMin': 0, 'Script': 0}\n",
      "\n",
      "id = 2103\n",
      "conteúdo → {'Id': 2103, 'AegisName': 'Buckler', 'Name': 'Buckler', 'Type': 'Armor', 'Buy': 14000, 'Weight': 600, 'Defense': 4, 'Jobs': {'Acolyte': True, 'Alchemist': True, 'Assassin': True, 'BardDancer': True, 'Blacksmith': True, 'Crusader': True, 'Knight': True, 'Merchant': True, 'Monk': True, 'Priest': True, 'Rogue': True, 'Swordman': True, 'Thief': True}, 'Locations': {'Left_Hand': True}, 'Refineable': True, 'View': 2}\n",
      "\n",
      "id = 2104\n",
      "conteúdo → {'Id': 2104, 'AegisName': 'Buckler_', 'Name': 'Buckler', 'Type': 'Armor', 'Buy': 14000, 'Weight': 600, 'Defense': 4, 'Slots': 1, 'Jobs': {'Acolyte': True, 'Alchemist': True, 'Assassin': True, 'BardDancer': True, 'Blacksmith': True, 'Crusader': True, 'Knight': True, 'Merchant': True, 'Monk': True, 'Priest': True, 'Rogue': True, 'Swordman': True, 'Thief': True}, 'Locations': {'Left_Hand': True}, 'Refineable': True, 'View': 2}\n",
      "\n",
      "id = 2105\n",
      "conteúdo → {'Id': 2105, 'AegisName': 'Shield', 'Name': 'Shield', 'Type': 'Armor', 'Buy': 56000, 'Weight': 1300, 'Defense': 6, 'Jobs': {'Crusader': True, 'Knight': True, 'Swordman': True}, 'Locations': {'Left_Hand': True}, 'Refineable': True, 'View': 3}\n",
      "\n",
      "id = 2106\n",
      "conteúdo → {'Id': 2106, 'AegisName': 'Shield_', 'Name': 'Shield', 'Type': 'Armor', 'Buy': 56000, 'Weight': 1300, 'Defense': 6, 'Slots': 1, 'Jobs': {'Crusader': True, 'Knight': True, 'Swordman': True}, 'Locations': {'Left_Hand': True}, 'Refineable': True, 'View': 3}\n",
      "\n",
      "id = 2107\n",
      "conteúdo → {'Id': 2107, 'AegisName': 'Mirror_Shield', 'Name': 'Mirror Shield', 'Type': 'Armor', 'Buy': 60000, 'Weight': 1000, 'Defense': 4, 'Jobs': {'Crusader': True, 'Knight': True, 'StarGladiator': True, 'Swordman': True}, 'Locations': {'Left_Hand': True}, 'Refineable': True, 'View': 4, 'Script': 'bonus bMdef,5;\\n'}\n",
      "\n",
      "id = 2108\n",
      "conteúdo → {'Id': 2108, 'AegisName': 'Mirror_Shield_', 'Name': 'Mirror Shield', 'Type': 'Armor', 'Buy': 60000, 'Weight': 1000, 'Defense': 4, 'Slots': 1, 'Jobs': {'Crusader': True, 'Knight': True, 'StarGladiator': True, 'Swordman': True}, 'Locations': {'Left_Hand': True}, 'Refineable': True, 'View': 4, 'Script': 'bonus bMdef,5;\\n'}\n",
      "\n",
      "id = 2109\n",
      "conteúdo → {'Id': 2109, 'AegisName': 'Memorize_Book', 'Name': 'Memory Book', 'Type': 'Armor', 'Buy': 20, 'Weight': 1000, 'Defense': 3, 'Jobs': {'Mage': True, 'Sage': True, 'SoulLinker': True, 'Wizard': True}, 'Locations': {'Left_Hand': True}, 'Refineable': True, 'View': 5, 'Script': 'bonus bInt,1; bonus bMdef,2;\\n'}\n",
      "\n",
      "id = 2110\n",
      "conteúdo → {'Id': 2110, 'AegisName': 'Holy_Guard', 'Name': 'Holy Guard', 'Type': 'Armor', 'Buy': 85000, 'Weight': 1400, 'Defense': 5, 'Jobs': {'Crusader': True}, 'Locations': {'Left_Hand': True}, 'EquipLevelMin': 68, 'View': 4, 'Script': 'bonus bVit,2; bonus bMdef,2;\\n'}\n",
      "\n",
      "id = 2111\n",
      "conteúdo → {'Id': 2111, 'AegisName': 'Herald_Of_GOD', 'Name': 'Sacred Mission', 'Type': 'Armor', 'Buy': 128000, 'Weight': 1600, 'Defense': 5, 'Jobs': {'Crusader': True}, 'Locations': {'Left_Hand': True}, 'EquipLevelMin': 83, 'Refineable': True, 'View': 4, 'Script': 'bonus bVit,3; bonus bInt,2; bonus bMdef,3; bonus bUnbreakableShield;\\n'}\n",
      "\n",
      "id = 2112\n",
      "conteúdo → {'Id': 2112, 'AegisName': 'Novice_Guard', 'Name': 'Novice Guard', 'Type': 'Armor', 'Buy': 1, 'Weight': 1, 'Defense': 3, 'Jobs': {'Novice': True, 'SuperNovice': True}, 'Locations': {'Left_Hand': True}, 'View': 1}\n",
      "\n",
      "id = 2113\n",
      "conteúdo → {'Id': 2113, 'AegisName': 'Novice_Shield', 'Name': 'Novice Shield', 'Type': 'Armor', 'Buy': 5000, 'Weight': 1000, 'Defense': 3, 'Slots': 1, 'Jobs': {'Novice': True, 'SuperNovice': True}, 'Locations': {'Left_Hand': True}, 'EquipLevelMin': 40, 'Refineable': True, 'View': 3, 'Script': 'bonus2 bSubEle,Ele_Water,20; bonus2 bSubEle,Ele_Earth,20; bonus2 bSubEle,Ele_Fire,20; bonus2 bSubEle,Ele_Wind,20; bonus2 bSubEle,Ele_Poison,20; bonus2 bSubEle,Ele_Ghost,20; bonus2 bSubEle,Ele_Undead,20;\\n'}\n",
      "\n",
      "id = 2114\n",
      "conteúdo → {'Id': 2114, 'AegisName': 'Stone_Buckler', 'Name': 'Stone Buckler', 'Type': 'Armor', 'Buy': 30000, 'Weight': 1500, 'Defense': 3, 'Slots': 1, 'Jobs': {'All': True, 'Novice': False, 'SuperNovice': False}, 'Locations': {'Left_Hand': True}, 'EquipLevelMin': 65, 'Refineable': True, 'View': 2, 'Script': 'bonus2 bSubSize,Size_Large,5;\\n'}\n",
      "\n",
      "id = 2115\n",
      "conteúdo → {'Id': 2115, 'AegisName': \"Valkyrja's_Shield\", 'Name': \"Valkyrja's Shield\", 'Type': 'Armor', 'Buy': 30000, 'Weight': 500, 'Defense': 3, 'Slots': 1, 'Jobs': {'All': True, 'Novice': False, 'SuperNovice': False}, 'Locations': {'Left_Hand': True}, 'EquipLevelMin': 65, 'Refineable': True, 'View': 4, 'Script': 'bonus2 bSubEle,Ele_Water,20; bonus2 bSubEle,Ele_Fire,20; bonus2 bSubEle,Ele_Dark,20; bonus2 bSubEle,Ele_Undead,20; bonus bMdef,5;\\n'}\n",
      "\n",
      "id = 2116\n",
      "conteúdo → {'Id': 2116, 'AegisName': \"Angel's_Safeguard\", 'Name': 'Angelic Guard', 'Type': 'Armor', 'Buy': 10000, 'Weight': 400, 'Defense': 3, 'Slots': 1, 'Jobs': {'Novice': True, 'SuperNovice': True}, 'Locations': {'Left_Hand': True}, 'EquipLevelMin': 20, 'Refineable': True, 'View': 1, 'Script': 'bonus2 bSubRace,RC_Demon,5;\\n'}\n",
      "\n",
      "id = 2117\n",
      "conteúdo → {'Id': 2117, 'AegisName': 'Arm_Guard', 'Name': 'Arm Guard', 'Type': 'Armor', 'Buy': 10000, 'Weight': 150, 'Defense': 5, 'Jobs': {'Ninja': True}, 'Locations': {'Left_Hand': True}, 'EquipLevelMin': 20, 'Refineable': True, 'View': 1}\n",
      "\n",
      "id = 2118\n",
      "conteúdo → {'Id': 2118, 'AegisName': 'Arm_Guard_', 'Name': 'Arm Guard', 'Type': 'Armor', 'Buy': 10000, 'Weight': 150, 'Defense': 5, 'Slots': 1, 'Jobs': {'Ninja': True}, 'Locations': {'Left_Hand': True}, 'EquipLevelMin': 20, 'Refineable': True, 'View': 1}\n",
      "\n",
      "id = 2119\n",
      "conteúdo → {'Id': 2119, 'AegisName': 'Improved_Arm_Guard', 'Name': 'Advanced Arm Guard', 'Type': 'Armor', 'Buy': 40000, 'Weight': 150, 'Defense': 4, 'Jobs': {'Ninja': True}, 'Locations': {'Left_Hand': True}, 'EquipLevelMin': 50, 'Refineable': True, 'View': 1, 'Script': 'bonus bMdef,5;\\n'}\n",
      "\n",
      "id = 2120\n",
      "conteúdo → {'Id': 2120, 'AegisName': 'Improved_Arm_Guard_', 'Name': 'Advanced Arm Guard', 'Type': 'Armor', 'Buy': 40000, 'Weight': 150, 'Defense': 4, 'Slots': 1, 'Jobs': {'Ninja': True}, 'Locations': {'Left_Hand': True}, 'EquipLevelMin': 50, 'Refineable': True, 'View': 1, 'Script': 'bonus bMdef,5;\\n'}\n",
      "\n",
      "id = 2121\n",
      "conteúdo → {'Id': 2121, 'AegisName': 'Memorize_Book_', 'Name': 'Memory Book', 'Type': 'Armor', 'Buy': 20, 'Weight': 1000, 'Defense': 3, 'Slots': 1, 'Jobs': {'Mage': True, 'Sage': True, 'SoulLinker': True, 'Wizard': True}, 'Locations': {'Left_Hand': True}, 'Refineable': True, 'View': 5, 'Script': 'bonus bInt,1; bonus bMdef,2;\\n'}\n",
      "\n",
      "id = 2122\n",
      "conteúdo → {'Id': 2122, 'AegisName': 'Platinum_Shield', 'Name': 'Platinum Shield', 'Type': 'Armor', 'Buy': 20, 'Weight': 1200, 'Defense': 5, 'Jobs': {'All': True, 'Novice': False, 'SuperNovice': False}, 'Classes': {'Upper': True}, 'Locations': {'Left_Hand': True}, 'EquipLevelMin': 68, 'Refineable': True, 'View': 4, 'Script': 'bonus bMdef,5; bonus2 bSubSize,Size_Medium,15; bonus2 bSubSize,Size_Large,15; bonus2 bSubRace,RC_Undead,10; bonus5 bAutoSpellWhenHit,\"NPC_MAGICMIRROR\",7,150,BF_MAGIC,0;\\n'}\n",
      "\n",
      "id = 2123\n",
      "conteúdo → {'Id': 2123, 'AegisName': 'Orleans_Server', 'Name': \"Orleans's Server\", 'Type': 'Armor', 'Buy': 20, 'Weight': 1000, 'Defense': 5, 'Slots': 1, 'Jobs': {'All': True, 'Novice': False, 'SuperNovice': False}, 'Classes': {'Upper': True}, 'Locations': {'Left_Hand': True}, 'EquipLevelMin': 55, 'Refineable': True, 'View': 4, 'Script': 'bonus bMdef,2; bonus bMagicDamageReturn,5;\\n'}\n",
      "\n",
      "id = 2124\n",
      "conteúdo → {'Id': 2124, 'AegisName': 'Thorny_Buckler', 'Name': 'Thorny Buckler', 'Type': 'Armor', 'Buy': 20, 'Weight': 1000, 'Defense': 5, 'Slots': 1, 'Jobs': {'All': True, 'Novice': False, 'SuperNovice': False}, 'Classes': {'Upper': True}, 'Locations': {'Left_Hand': True}, 'EquipLevelMin': 55, 'Refineable': True, 'View': 2, 'Script': 'bonus bMdef,2;\\n'}\n",
      "\n",
      "id = 2125\n",
      "conteúdo → {'Id': 2125, 'AegisName': 'Strong_Shield', 'Name': 'Strong Shield', 'Type': 'Armor', 'Buy': 20, 'Weight': 2500, 'Defense': 4, 'Slots': 1, 'Jobs': {'Alchemist': True, 'Assassin': True, 'Blacksmith': True, 'Crusader': True, 'Knight': True, 'Merchant': True, 'Rogue': True, 'Swordman': True, 'Thief': True}, 'Classes': {'Upper': True}, 'Locations': {'Left_Hand': True}, 'EquipLevelMin': 75, 'Refineable': True, 'View': 4, 'Script': 'bonus bNoKnockback; bonus2 bSubEle,Ele_Neutral,-20; bonus2 bSubEle,Ele_Fire,-20; bonus2 bSubEle,Ele_Water,-20; bonus2 bSubEle,Ele_Wind,-20; bonus2 bSubEle,Ele_Earth,-20; bonus2 bSubEle,Ele_Dark,-20; bonus2 bSubEle,Ele_Holy,-20; bonus2 bSubEle,Ele_Ghost,-20;\\n'}\n",
      "\n",
      "id = 2126\n",
      "conteúdo → {'Id': 2126, 'AegisName': 'Guyak_Shield', 'Name': 'Guyak Shield', 'Type': 'Armor', 'Buy': 20, 'Weight': 700, 'Defense': 3, 'Jobs': {'All': True, 'Novice': False, 'SuperNovice': False}, 'Locations': {'Left_Hand': True}, 'EquipLevelMin': 75, 'Refineable': True, 'View': 2, 'Script': 'bonus bMdef,3;\\n'}\n",
      "\n",
      "id = 2127\n",
      "conteúdo → {'Id': 2127, 'AegisName': 'Secular_Mission', 'Name': 'Secular Mission', 'Type': 'Armor', 'Buy': 20, 'Defense': 10, 'Locations': {'Left_Hand': True}, 'View': 4, 'Trade': {'Override': 100, 'NoDrop': True, 'NoTrade': True, 'NoSell': True, 'NoCart': True, 'NoGuildStorage': True, 'NoMail': True, 'NoAuction': True}, 'Script': 'bonus2 bSubClass,Class_All,25;\\n'}\n",
      "\n",
      "id = 2128\n",
      "conteúdo → {'Id': 2128, 'AegisName': 'Herald_Of_GOD_', 'Name': 'Sacred Mission', 'Type': 'Armor', 'Buy': 128000, 'Weight': 1600, 'Defense': 5, 'Slots': 1, 'Jobs': {'Crusader': True}, 'Locations': {'Left_Hand': True}, 'EquipLevelMin': 83, 'Refineable': True, 'View': 4, 'Script': 'bonus bVit,3; bonus bInt,2; bonus bMdef,3; bonus bUnbreakableShield;\\n'}\n",
      "\n",
      "id = 2129\n",
      "conteúdo → {'Id': 2129, 'AegisName': 'Exorcism_Bible', 'Name': 'Exorcism Bible', 'Type': 'Armor', 'Buy': 20, 'Weight': 600, 'Defense': 5, 'Jobs': {'Monk': True, 'Priest': True}, 'Locations': {'Left_Hand': True}, 'EquipLevelMin': 50, 'Refineable': True, 'View': 5, 'Script': 'bonus bHPrecovRate,3; bonus bSPrecovRate,3; bonus bInt,1;\\n'}\n",
      "\n",
      "id = 2130\n",
      "conteúdo → {'Id': 2130, 'AegisName': 'Cross_Shield', 'Name': 'Cross Shield', 'Type': 'Armor', 'Buy': 20, 'Weight': 2000, 'Defense': 6, 'Slots': 1, 'Jobs': {'Crusader': True}, 'Locations': {'Left_Hand': True}, 'EquipLevelMin': 80, 'Refineable': True, 'View': 4, 'Script': 'bonus bStr,1; bonus2 bSkillAtk,\"PA_SHIELDCHAIN\",30; bonus2 bSkillAtk,\"CR_SHIELDBOOMERANG\",30; bonus bUseSPrate,10;\\n'}\n",
      "\n",
      "id = 2131\n",
      "conteúdo → {'Id': 2131, 'AegisName': 'Magic_Study_Vol1', 'Name': 'Magic Bible Vol1', 'Type': 'Armor', 'Buy': 20, 'Weight': 1000, 'Defense': 2, 'Slots': 1, 'Jobs': {'Mage': True, 'Sage': True, 'SoulLinker': True, 'Wizard': True}, 'Locations': {'Left_Hand': True}, 'EquipLevelMin': 70, 'Refineable': True, 'View': 5, 'Script': 'bonus bMdef,3; bonus bInt,2; bonus2 bAddEffWhenHit,Eff_Stun,1000;\\n'}\n",
      "\n",
      "id = 2132\n",
      "conteúdo → {'Id': 2132, 'AegisName': 'Shelter_Resistance', 'Name': 'Shell Of Resistance', 'Type': 'Armor', 'Buy': 20, 'Defense': 9, 'Locations': {'Left_Hand': True}, 'View': 2, 'Trade': {'Override': 100, 'NoDrop': True, 'NoTrade': True, 'NoSell': True, 'NoCart': True, 'NoStorage': True, 'NoGuildStorage': True, 'NoMail': True, 'NoAuction': True}, 'Script': 'bonus2 bSubEle,Ele_All,20; bonus bShortWeaponDamageReturn,1; if (vip_status(VIP_STATUS_ACTIVE)) { bonus bAllStats,1; }\\n'}\n",
      "\n",
      "id = 2133\n",
      "conteúdo → {'Id': 2133, 'AegisName': 'Tournament_Shield', 'Name': 'Tournament Shield', 'Type': 'Armor', 'Buy': 20, 'Weight': 1000, 'Defense': 5, 'Slots': 1, 'Jobs': {'Crusader': True, 'Knight': True, 'Swordman': True}, 'Classes': {'Upper': True}, 'Locations': {'Left_Hand': True}, 'EquipLevelMin': 50, 'Refineable': True, 'View': 4, 'Script': 'bonus2 bAddClass,Class_All,1; if( Class==Job_Lord_Knight ) bonus bAspdRate,-5;\\n'}\n",
      "\n",
      "id = 2134\n",
      "conteúdo → {'Id': 2134, 'AegisName': 'Shield_Of_Naga', 'Name': 'Shield of Naga', 'Type': 'Armor', 'Buy': 20, 'Weight': 500, 'Defense': 3, 'Slots': 1, 'Jobs': {'Alchemist': True, 'Assassin': True, 'BardDancer': True, 'Blacksmith': True, 'Crusader': True, 'Hunter': True, 'Knight': True, 'Monk': True, 'Priest': True, 'Rogue': True, 'Sage': True, 'SoulLinker': True, 'StarGladiator': True, 'Wizard': True}, 'Classes': {'Upper': True}, 'Locations': {'Left_Hand': True}, 'EquipLevelMin': 70, 'Refineable': True, 'View': 2, 'Script': 'bonus bMdef,3; autobonus2 \"{ bonus bShortWeaponDamageReturn,(getrefine()*3); }\",10,5000,BF_WEAPON,\"{ specialeffect2 EF_GUARD; }\";\\n'}\n",
      "\n",
      "id = 2135\n",
      "conteúdo → {'Id': 2135, 'AegisName': 'Shadow_Guard', 'Name': 'Shadow Guard', 'Type': 'Armor', 'Buy': 20, 'Weight': 800, 'Defense': 4, 'Slots': 1, 'Jobs': {'Rogue': True}, 'Classes': {'Upper': True}, 'Locations': {'Left_Hand': True}, 'EquipLevelMin': 70, 'Refineable': True, 'View': 2}\n",
      "\n",
      "id = 2136\n",
      "conteúdo → {'Id': 2136, 'AegisName': 'Cracked_Buckler', 'Name': 'Cracked Buckler', 'Type': 'Armor', 'Defense': 5, 'Locations': {'Left_Hand': True}, 'View': 2, 'Script': 'bonus bAgi,2; bonus2 bAddEle,Ele_Neutral,-10; bonus3 bAutoSpellWhenHit,\"PR_KYRIE\",1,50; bonus bMdef,1;\\n'}\n",
      "\n",
      "id = 2137\n",
      "conteúdo → {'Id': 2137, 'AegisName': \"Valkyrja's_Shield_C\", 'Name': \"Neo Valkyrja's Shield\", 'Type': 'Armor', 'Defense': 5, 'Jobs': {'All': True, 'Novice': False, 'SuperNovice': False}, 'Classes': {'Upper': True}, 'Locations': {'Left_Hand': True}, 'EquipLevelMin': 95, 'View': 4, 'Script': 'bonus2 bSubEle,Ele_Water,20; bonus2 bSubEle,Ele_Fire,20; bonus2 bSubEle,Ele_Dark,20; bonus2 bSubEle,Ele_Undead,20; bonus bMdef,5;\\n'}\n",
      "\n",
      "id = 2138\n",
      "conteúdo → {'Id': 2138, 'AegisName': 'Bradium_Shield', 'Name': 'Bradium Shield', 'Type': 'Armor', 'Buy': 20, 'Weight': 1800, 'Defense': 5, 'Slots': 1, 'Jobs': {'Alchemist': True, 'Assassin': True, 'BardDancer': True, 'Blacksmith': True, 'Crusader': True, 'Hunter': True, 'Knight': True, 'Monk': True, 'Priest': True, 'Rogue': True, 'Sage': True, 'SoulLinker': True, 'StarGladiator': True, 'Wizard': True}, 'Classes': {'Upper': True}, 'Locations': {'Left_Hand': True}, 'EquipLevelMin': 65, 'Refineable': True, 'View': 3, 'Script': 'bonus2 bSkillAtk,\"CR_SHIELDBOOMERANG\",60; bonus bAgi,-1; bonus bMaxHP,500;\\n'}\n",
      "\n",
      "id = 2139\n",
      "conteúdo → {'Id': 2139, 'AegisName': 'Flame_Thrower', 'Name': 'Flame Thrower', 'Type': 'Armor', 'Buy': 20000, 'Weight': 2000, 'Defense': 60, 'Jobs': {'Blacksmith': True}, 'Classes': {'Normal': True, 'Upper': True, 'Baby': True, 'Third': True, 'Third_Upper': True, 'Third_Baby': True}, 'Locations': {'Left_Hand': True}, 'EquipLevelMin': 99, 'View': 1}\n",
      "\n",
      "id = 2199\n",
      "conteúdo → {'Id': 2199, 'AegisName': 'Ahura_Mazda', 'Name': 'Ahura Mazdah', 'Type': 'Armor', 'Buy': 1, 'Weight': 10, 'Defense': 100, 'Locations': {'Left_Hand': True}, 'EquipLevelMin': 1, 'Refineable': True, 'Script': 'bonus bAllStats,50; bonus bMdef,99; bonus bShortWeaponDamageReturn,100; bonus2 bSubRace,RC_DemiHuman,95; bonus2 bSubRace,RC_Player_Human,95; skill \"CR_FULLPROTECTION\",5; Skill \"WZ_ESTIMATION\",1; Skill \"ST_FULLSTRIP\",5; Skill \"HW_MAGICPOWER\",10; bonus bMaxHPRate,200; bonus bNoGemStone; bonus bSpeedRate,25; bonus bNoWalkDelay;\\n'}\n",
      "\n"
     ]
    }
   ],
   "source": [
    "def normalize_missing_params(input_db):\n",
    "    copy_db = input_db\n",
    "    checklist = {'Id': 0, 'Name': '', 'Weight': 0, 'Defense': 0, 'Slots': 0, 'Jobs': {'All': True}, 'Classes': {'All': True}, 'Gender': 'Both', 'Locations': 'None', 'EquipLevelMin': 0, 'Refineable': False, 'View': 0, 'Script': 0}\n",
    "    for i in checklist.keys():\n",
    "        if(i not in input_db):\n",
    "            copy_db[i] = checklist[i]\n",
    "    return copy_db\n",
    "\n",
    "shield_database = {}\n",
    "for i in equip_database.values():\n",
    "    if('Locations' in i and 'Type' in i):\n",
    "        if(i['Locations'] == {'Left_Hand': True} and i['Type'] == 'Armor'):\n",
    "            print('id = {}'.format(i['Id']))\n",
    "            print('conteúdo → {}\\n'.format(i))\n",
    "            shield_database[i['Id']] = normalize_missing_params(i)"
   ]
  },
  {
   "cell_type": "code",
   "execution_count": 122,
   "metadata": {},
   "outputs": [
    {
     "data": {
      "text/plain": [
       "{'Id': 2131,\n",
       " 'AegisName': 'Magic_Study_Vol1',\n",
       " 'Name': 'Magic Bible Vol1',\n",
       " 'Type': 'Armor',\n",
       " 'Buy': 20,\n",
       " 'Weight': 1000,\n",
       " 'Defense': 2,\n",
       " 'Slots': 1,\n",
       " 'Jobs': {'Mage': True, 'Sage': True, 'SoulLinker': True, 'Wizard': True},\n",
       " 'Locations': {'Left_Hand': True},\n",
       " 'EquipLevelMin': 70,\n",
       " 'Refineable': True,\n",
       " 'View': 5,\n",
       " 'Script': 'bonus bMdef,3; bonus bInt,2; bonus2 bAddEffWhenHit,Eff_Stun,1000;\\n',\n",
       " 'Classes': {'All': True},\n",
       " 'Gender': 'Both'}"
      ]
     },
     "execution_count": 122,
     "metadata": {},
     "output_type": "execute_result"
    }
   ],
   "source": [
    "shield_database[2131]"
   ]
  },
  {
   "cell_type": "code",
   "execution_count": null,
   "metadata": {},
   "outputs": [],
   "source": []
  },
  {
   "cell_type": "code",
   "execution_count": null,
   "metadata": {},
   "outputs": [],
   "source": []
  },
  {
   "cell_type": "code",
   "execution_count": 120,
   "metadata": {},
   "outputs": [
    {
     "data": {
      "text/plain": [
       "{'Id': 2114,\n",
       " 'AegisName': 'Stone_Buckler',\n",
       " 'Name': 'Stone Buckler',\n",
       " 'Type': 'Armor',\n",
       " 'Buy': 30000,\n",
       " 'Weight': 1500,\n",
       " 'Defense': 3,\n",
       " 'Slots': 1,\n",
       " 'Jobs': {'All': True, 'Novice': False, 'SuperNovice': False},\n",
       " 'Locations': {'Left_Hand': True},\n",
       " 'EquipLevelMin': 65,\n",
       " 'Refineable': True,\n",
       " 'View': 2,\n",
       " 'Script': 'bonus2 bSubSize,Size_Large,5;\\n',\n",
       " 'Classes': {'All': True},\n",
       " 'Gender': 'Both'}"
      ]
     },
     "execution_count": 120,
     "metadata": {},
     "output_type": "execute_result"
    }
   ],
   "source": []
  },
  {
   "cell_type": "code",
   "execution_count": null,
   "metadata": {},
   "outputs": [],
   "source": []
  },
  {
   "cell_type": "code",
   "execution_count": 39,
   "metadata": {},
   "outputs": [],
   "source": [
    "class PlayerEquips:\n",
    "    def __init__(self, tophat, midhat, lowhat, armor, weapon, shield, robe, shoes, acessory1, acessory2):\n",
    "        self.tophat = tophat\n",
    "        self.midhat = midhat\n",
    "        self.lowhat = lowhat\n",
    "        self.armor = armor\n",
    "        self.weapon = weapon\n",
    "        self.shield = shield\n",
    "        self.robe = robe\n",
    "        self.shoes = shoes\n",
    "        self.acessory1 = acessory1\n",
    "        self.acessory2 = acessory2"
   ]
  },
  {
   "cell_type": "code",
   "execution_count": null,
   "metadata": {},
   "outputs": [],
   "source": []
  }
 ],
 "metadata": {
  "kernelspec": {
   "display_name": "Python 3",
   "language": "python",
   "name": "python3"
  },
  "language_info": {
   "codemirror_mode": {
    "name": "ipython",
    "version": 3
   },
   "file_extension": ".py",
   "mimetype": "text/x-python",
   "name": "python",
   "nbconvert_exporter": "python",
   "pygments_lexer": "ipython3",
   "version": "3.7.3"
  }
 },
 "nbformat": 4,
 "nbformat_minor": 2
}
