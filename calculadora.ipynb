{
 "cells": [
  {
   "cell_type": "markdown",
   "metadata": {},
   "source": [
    "# <font color='red'>Objetos</font>"
   ]
  },
  {
   "cell_type": "code",
   "execution_count": 1,
   "metadata": {},
   "outputs": [],
   "source": [
    "# %run gear_db.ipynb\n",
    "from decorador_db_gen import db_generator"
   ]
  },
  {
   "cell_type": "code",
   "execution_count": 2,
   "metadata": {
    "scrolled": true
   },
   "outputs": [
    {
     "name": "stdout",
     "output_type": "stream",
     "text": [
      "Database carregado com sucesso!\n"
     ]
    }
   ],
   "source": [
    "dbg = db_generator()"
   ]
  },
  {
   "cell_type": "code",
   "execution_count": 5,
   "metadata": {},
   "outputs": [],
   "source": [
    "equip_database = dbg.getEquip_DB()\n",
    "hat_database = dbg.getHat_DB()\n",
    "shield_database = dbg.getShield_DB()\n",
    "robe_database = dbg.getRobe_DB()\n",
    "armor_database = dbg.getArmor_DB()\n",
    "shoes_database = dbg.getShoes_DB()\n",
    "acessory_database = dbg.getAcessory_DB()"
   ]
  },
  {
   "cell_type": "code",
   "execution_count": null,
   "metadata": {},
   "outputs": [],
   "source": []
  },
  {
   "cell_type": "code",
   "execution_count": null,
   "metadata": {},
   "outputs": [],
   "source": []
  },
  {
   "cell_type": "code",
   "execution_count": null,
   "metadata": {},
   "outputs": [],
   "source": []
  },
  {
   "cell_type": "code",
   "execution_count": null,
   "metadata": {},
   "outputs": [],
   "source": []
  },
  {
   "cell_type": "code",
   "execution_count": null,
   "metadata": {},
   "outputs": [],
   "source": []
  },
  {
   "cell_type": "code",
   "execution_count": null,
   "metadata": {},
   "outputs": [],
   "source": [
    "class Equip:\n",
    "    def __init__(self, unique_id, name, main_type, subtype, weight, base_attack, slots, joblist, weapon_level, min_level, refineable):\n",
    "        print(\"olá\")"
   ]
  },
  {
   "cell_type": "code",
   "execution_count": null,
   "metadata": {},
   "outputs": [],
   "source": []
  },
  {
   "cell_type": "code",
   "execution_count": null,
   "metadata": {},
   "outputs": [],
   "source": []
  },
  {
   "cell_type": "code",
   "execution_count": null,
   "metadata": {},
   "outputs": [],
   "source": []
  },
  {
   "cell_type": "code",
   "execution_count": null,
   "metadata": {},
   "outputs": [],
   "source": []
  },
  {
   "cell_type": "code",
   "execution_count": null,
   "metadata": {},
   "outputs": [],
   "source": []
  },
  {
   "cell_type": "code",
   "execution_count": null,
   "metadata": {},
   "outputs": [],
   "source": []
  },
  {
   "cell_type": "code",
   "execution_count": null,
   "metadata": {},
   "outputs": [],
   "source": [
    "class PlayerBuild:\n",
    "    def __init__(self, base_level, job_level, current_job, statbuild):\n",
    "        self.base_level = base_level\n",
    "        self.job_level = job_level\n",
    "        self.current_job = current_job\n",
    "        self.statbuild = statbuild\n",
    "        self.str = statbuild[0];\tself.str_bonus = 0;\tself.core_str = self.str\n",
    "        self.agi = statbuild[1];\tself.agi_bonus = 0;\tself.core_agi = self.agi\n",
    "        self.vit = statbuild[2];\tself.vit_bonus = 0;\tself.core_vit = self.vit\n",
    "        self.int = statbuild[3];\tself.int_bonus = 0;\tself.core_int = self.int\n",
    "        self.dex = statbuild[4];\tself.dex_bonus = 0;\tself.core_dex = self.dex\n",
    "        self.luk = statbuild[5];\tself.luk_bonus = 0;\tself.core_luk = self.luk\n",
    "        \n",
    "        #arquivos\n",
    "        self.hp_df = pd.read_csv ('max_hp_table.csv')\n",
    "        self.job_bonuses = job_bonuses_list[current_job]['FULL_BONUSES']\n",
    "        self.max_job = job_bonuses_list[current_job]['MAX_JOB']\n",
    "        \n",
    "        # status com o ajuste do job\n",
    "        self.str_bonus = self.evaluate_stat_bonus(self.job_level, job_bonuses_list[current_job]['STR'])\n",
    "        self.agi_bonus = self.evaluate_stat_bonus(self.job_level, job_bonuses_list[current_job]['AGI'])\n",
    "        self.vit_bonus = self.evaluate_stat_bonus(self.job_level, job_bonuses_list[current_job]['VIT'])\n",
    "        self.int_bonus = self.evaluate_stat_bonus(self.job_level, job_bonuses_list[current_job]['INT'])\n",
    "        self.dex_bonus = self.evaluate_stat_bonus(self.job_level, job_bonuses_list[current_job]['DEX'])\n",
    "        self.luk_bonus = self.evaluate_stat_bonus(self.job_level, job_bonuses_list[current_job]['LUK'])\n",
    "        \n",
    "        # somatórios de status\n",
    "        self.str += self.str_bonus; self.agi += self.agi_bonus; self.vit += self.vit_bonus;\n",
    "        self.int += self.int_bonus; self.dex += self.dex_bonus; self.luk += self.luk_bonus;\n",
    "        \n",
    "        # esquiva\n",
    "        self.flee_bonuses = 0\n",
    "        self.flee = self.agi + self.flee_bonuses + self.base_level\n",
    "        self.perfect_flee = 1\n",
    "        \n",
    "        # precisão\n",
    "        self.hit_bonuses = 0\n",
    "        self.hit = self.dex + self.hit_bonuses + self.base_level\n",
    "        \n",
    "        # crítico\n",
    "        self.crit_bonuses = 0\n",
    "        self.crit_rate = 1 + math.floor(1/3*self.luk + self.crit_bonuses)\n",
    "        self.crit_target_luk = 0\n",
    "        self.crit_finalrate = self.crit_rate - (self.crit_target_luk*0.2)\n",
    "        \n",
    "        # cálculo do HP\n",
    "        self.trans_mod = 1\n",
    "        self.aditive_modifiers = 0\n",
    "        self.multiplicative_modifiers = 0\n",
    "        self.base_hp = list(self.hp_df[self.current_job])[self.base_level]\n",
    "        self.max_hp = self.calculate_max_hp()\n",
    "        \n",
    "        # cálculo do SP\n",
    "        self.sp_mod_a = 0\n",
    "        self.sp_mod_b = 0\n",
    "        self.max_sp = self.calculate_max_sp()\n",
    "        \n",
    "    def calculate_base_hp(self):\n",
    "        hp_base_table = {\"novice\": (0, 5), \"super_novice\": (0, 5), \"swordsman\": (0.7, 5), \"archer\": (0.5, 5), \"thief\": (0.5, 5), \"acolyte\": (0.4, 5), \"merchant\": (0.4, 5), \"mage\": (0.3, 5), \"knight\": (1.5, 5), \"hunter\": (0.85, 5), \"assassin\": (1.1, 5), \"priest\": (0.75, 5), \"blacksmith\": (0.9, 5), \"wizard\": (0.55, 5), \"crusader\": (1.1, 7), \"dancer\": (0.75, 3), \"bard\": (0.75, 3), \"rogue\": (0.85, 5), \"monk\": (0.9, 6.5), \"alchemist\": (0.9, 5), \"sage\": (0.75, 5)}\n",
    "        hp_job_a = hp_base_table[self.current_job][0]\n",
    "        hp_job_b = hp_base_table[self.current_job][1]\n",
    "        base_hp = 35 + (self.base_level * hp_job_b)\n",
    "        for i in range(2, self.base_level + 1):\n",
    "            base_hp = base_hp + round(hp_job_a * i)\n",
    "        return (base_hp)\n",
    "    \n",
    "    def calculate_max_hp(self):\n",
    "        max_hp = math.floor(self.base_hp * (1+(0.01*self.vit)))\n",
    "        max_hp += self.aditive_modifiers\n",
    "        max_hp = math.floor(max_hp * (1 + (self.multiplicative_modifiers*0.01)))\n",
    "        return max_hp\n",
    "    \n",
    "    def calculate_max_sp(self):\n",
    "        sp_base_table = {\"novice\": (1), \"super_novice\": (1), \"swordsman\": (2), \"archer\": (2), \"thief\": (2), \"acolyte\": (5), \"merchant\": (3), \"mage\": (6), \"knight\": (3), \"hunter\": (4), \"assassin\": (4), \"priest\": (8), \"blacksmith\": (4), \"wizard\": (9), \"crusader\": (4.7), \"dancer\": (6), \"bard\": (6), \"rogue\": (5), \"monk\": (4.7), \"alchemist\": (4), \"sage\": (7)}\n",
    "        base_sp = 10\n",
    "        base_sp += math.floor(self.base_level * sp_base_table[self.current_job])\n",
    "        max_sp = base_sp\n",
    "        max_sp = math.floor(max_sp * (1 + (self.int*0.01)))\n",
    "        max_sp += self.sp_mod_a\n",
    "        max_sp = math.floor(max_sp * (1 + (self.sp_mod_b * 0.01)))\n",
    "        return max_sp\n",
    "    \n",
    "    def evaluate_stat_bonus(self, job_level, stat_array):\n",
    "        if(not stat_array):\n",
    "            return 0\n",
    "        for i in range(len(stat_array) -1, -1, -1):\n",
    "            k = i + 1\n",
    "            if(job_level >= stat_array[i]):\n",
    "                break\n",
    "        return k\n",
    "    \n",
    "    def printbuild(self):\n",
    "        if(self.str_bonus == 0):\n",
    "            print(\"\t[str] → {}\".format(self.core_str))\n",
    "        else:\n",
    "            print('\t[str] → {} +{}'.format(self.core_str, self.str_bonus))\n",
    "            \n",
    "        if(self.agi_bonus == 0):\n",
    "            print(\"\t[agi] → {}\".format(self.core_agi))\n",
    "        else:\n",
    "            print('\t[agi] → {} +{}'.format(self.core_agi, self.agi_bonus))\n",
    "            \n",
    "        if(self.vit_bonus == 0):\n",
    "            print(\"\t[vit] → {}\".format(self.core_vit))\n",
    "        else:\n",
    "            print('\t[vit] → {} +{}'.format(self.core_vit, self.vit_bonus))\n",
    "            \n",
    "        if(self.int_bonus == 0):\n",
    "            print(\"\t[int] → {}\".format(self.core_int))\n",
    "        else:\n",
    "            print('\t[int] → {} +{}'.format(self.core_int, self.int_bonus))\n",
    "            \n",
    "        if(self.dex_bonus == 0):\n",
    "            print(\"\t[dex] → {}\".format(self.core_dex))\n",
    "        else:\n",
    "            print('\t[dex] → {} +{}'.format(self.core_dex, self.dex_bonus))\n",
    "            \n",
    "        if(self.luk_bonus == 0):\n",
    "            print(\"\t[luk] → {}\".format(self.core_luk))\n",
    "        else:\n",
    "            print('\t[luk] → {} +{}'.format(self.core_luk, self.luk_bonus))\n",
    "        "
   ]
  },
  {
   "cell_type": "code",
   "execution_count": null,
   "metadata": {},
   "outputs": [],
   "source": [
    "p1 = PlayerBuild(99, 50, 'assassin', [1, 1, 1, 1, 1, 30])\n",
    "print(\"max_hp → {}\".format(p1.max_hp))\n",
    "print(\"max_sp → {}\".format(p1.max_sp))\n",
    "p1.printbuild()\n",
    "print(\"hit → {}\".format(p1.hit))\n",
    "print(\"flee → {} +{}\".format(p1.flee, p1.perfect_flee))\n",
    "print(\"critical → {}\".format(p1.crit_rate))"
   ]
  },
  {
   "cell_type": "code",
   "execution_count": null,
   "metadata": {},
   "outputs": [],
   "source": []
  },
  {
   "cell_type": "markdown",
   "metadata": {},
   "source": [
    "# <font color='red'>Criar sistema de escudos</font>"
   ]
  },
  {
   "cell_type": "code",
   "execution_count": null,
   "metadata": {},
   "outputs": [],
   "source": []
  },
  {
   "cell_type": "code",
   "execution_count": null,
   "metadata": {},
   "outputs": [],
   "source": [
    "equip_database[2102]"
   ]
  },
  {
   "cell_type": "code",
   "execution_count": null,
   "metadata": {},
   "outputs": [],
   "source": [
    "equip_database[2114]"
   ]
  },
  {
   "cell_type": "code",
   "execution_count": null,
   "metadata": {},
   "outputs": [],
   "source": [
    "class Shield:\n",
    "    def __init__(self, shield_id, name = '', weight = 0, defense = 0, slots = 0, jobs = {'All': True}, classes = {'All': True}, gender = 'Both', locations = 'None', equipLevelMin = 0, refineable = False, view = 0, script = \"\"):\n",
    "        self.shield_id = shield_id\n",
    "        self.name = name\n",
    "        self.weight = weight\n",
    "        self.defense = defense\n",
    "        self.slots = slots\n",
    "        self.jobs = jobs\n",
    "        self.classes = classes\n",
    "        self.gender = gender\n",
    "        self.locations = locations\n",
    "        self.equipLevelMin = equipLevelMin\n",
    "        self.refineable = refineable\n",
    "        self.view = view\n",
    "        self.script = script\n",
    "        \n",
    "        default_param = ['', 0, 0, 0, {'All': True}, {'All': True}, 'Both', 'None', 0, False, 0, '']\n",
    "        \n",
    "    def show_param(self):\n",
    "        print('shield_id → {}'.format(self.shield_id)); print('name → {}'.format(self.name)); print('weight → {}'.format(self.weight)); print('defense → {}'.format(self.defense)); print('slots → {}'.format(self.slots)); print('jobs → {}'.format(self.jobs)); print('classes → {}'.format(self.classes)); print('gender → {}'.format(self.gender)); print('locations → {}'.format(self.locations)); print('equipLevelMin → {}'.format(self.equipLevelMin)); print('refineable → {}'.format(self.refineable)); print('view → {}'.format(self.view)); print('script → {}'.format(self.script)); \n",
    "        \n",
    "        \n",
    "s1 = Shield(234)"
   ]
  },
  {
   "cell_type": "code",
   "execution_count": null,
   "metadata": {},
   "outputs": [],
   "source": []
  },
  {
   "cell_type": "code",
   "execution_count": null,
   "metadata": {},
   "outputs": [],
   "source": []
  },
  {
   "cell_type": "code",
   "execution_count": null,
   "metadata": {},
   "outputs": [],
   "source": []
  },
  {
   "cell_type": "code",
   "execution_count": null,
   "metadata": {},
   "outputs": [],
   "source": []
  },
  {
   "cell_type": "code",
   "execution_count": null,
   "metadata": {},
   "outputs": [],
   "source": [
    "def normalize_missing_params(input_db):\n",
    "    copy_db = input_db\n",
    "    checklist = {'Id': 0, 'Name': '', 'Weight': 0, 'Defense': 0, 'Slots': 0, 'Jobs': {'All': True}, 'Classes': {'All': True}, 'Gender': 'Both', 'Locations': 'None', 'EquipLevelMin': 0, 'Refineable': False, 'View': 0, 'Script': 0}\n",
    "    for i in checklist.keys():\n",
    "        if(i not in input_db):\n",
    "            copy_db[i] = checklist[i]\n",
    "    return copy_db\n",
    "\n",
    "shield_database = {}\n",
    "for i in equip_database.values():\n",
    "    if('Locations' in i and 'Type' in i):\n",
    "        if(i['Locations'] == {'Left_Hand': True} and i['Type'] == 'Armor'):\n",
    "            print('id = {}'.format(i['Id']))\n",
    "            print('conteúdo → {}\\n'.format(i))\n",
    "            shield_database[i['Id']] = normalize_missing_params(i)"
   ]
  },
  {
   "cell_type": "code",
   "execution_count": null,
   "metadata": {},
   "outputs": [],
   "source": [
    "shield_database[2131]"
   ]
  },
  {
   "cell_type": "code",
   "execution_count": null,
   "metadata": {},
   "outputs": [],
   "source": []
  },
  {
   "cell_type": "code",
   "execution_count": null,
   "metadata": {},
   "outputs": [],
   "source": []
  },
  {
   "cell_type": "code",
   "execution_count": null,
   "metadata": {},
   "outputs": [],
   "source": []
  },
  {
   "cell_type": "code",
   "execution_count": null,
   "metadata": {},
   "outputs": [],
   "source": []
  },
  {
   "cell_type": "code",
   "execution_count": null,
   "metadata": {},
   "outputs": [],
   "source": [
    "class PlayerEquips:\n",
    "    def __init__(self, tophat, midhat, lowhat, armor, weapon, shield, robe, shoes, acessory1, acessory2):\n",
    "        self.tophat = tophat\n",
    "        self.midhat = midhat\n",
    "        self.lowhat = lowhat\n",
    "        self.armor = armor\n",
    "        self.weapon = weapon\n",
    "        self.shield = shield\n",
    "        self.robe = robe\n",
    "        self.shoes = shoes\n",
    "        self.acessory1 = acessory1\n",
    "        self.acessory2 = acessory2"
   ]
  },
  {
   "cell_type": "code",
   "execution_count": null,
   "metadata": {},
   "outputs": [],
   "source": []
  }
 ],
 "metadata": {
  "kernelspec": {
   "display_name": "Python 3",
   "language": "python",
   "name": "python3"
  },
  "language_info": {
   "codemirror_mode": {
    "name": "ipython",
    "version": 3
   },
   "file_extension": ".py",
   "mimetype": "text/x-python",
   "name": "python",
   "nbconvert_exporter": "python",
   "pygments_lexer": "ipython3",
   "version": "3.7.3"
  }
 },
 "nbformat": 4,
 "nbformat_minor": 2
}
