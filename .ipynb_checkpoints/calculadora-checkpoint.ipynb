{
 "cells": [
  {
   "cell_type": "markdown",
   "metadata": {},
   "source": [
    "# <font color='red'>Carregamento</font>"
   ]
  },
  {
   "cell_type": "code",
   "execution_count": 5,
   "metadata": {},
   "outputs": [
    {
     "name": "stdout",
     "output_type": "stream",
     "text": [
      "3.7.3\n"
     ]
    }
   ],
   "source": [
    "from platform import python_version\n",
    "\n",
    "print(python_version())"
   ]
  },
  {
   "cell_type": "code",
   "execution_count": null,
   "metadata": {},
   "outputs": [],
   "source": [
    "import yaml\n",
    "with open(r'C:\\\\job_bonuses.yml') as file:\n",
    "    teste = yaml.load(file, Loader=yaml.FullLoader)\n"
   ]
  },
  {
   "cell_type": "code",
   "execution_count": 4,
   "metadata": {
    "scrolled": true
   },
   "outputs": [
    {
     "name": "stdout",
     "output_type": "stream",
     "text": [
      "Database carregado com sucesso!\n"
     ]
    }
   ],
   "source": [
    "# %run gear_db.ipynb\n",
    "from model.decorador_db_gen import DbGenerator\n",
    "import yaml\n",
    "import math\n",
    "import pandas as pd\n",
    "import logging\n",
    "import os\n",
    "    \n",
    "def open_json(filename):\n",
    "    foldername = 'resources'\n",
    "    dir_path = os.path.dirname(os.path.realpath(filename)) + '\\\\{}\\\\'.format(foldername)\n",
    "    with open(r'{}\\\\{}'.format(dir_path, filename)) as file:\n",
    "        return(yaml.load(file, Loader=yaml.FullLoader))\n",
    "    \n",
    "jbl = open_json('job_bonuses.yml')\n",
    "eql = open_json('item_db_equip.yml')\n",
    "    \n",
    "dbg = DbGenerator(eql)\n",
    "\n",
    "equip_db = dbg.get_equip_db()\n",
    "\n",
    "weapon_db = dbg.get_weapon_db()\n",
    "hat_db = dbg.get_hat_db()\n",
    "shield_db = dbg.get_shield_db()\n",
    "robe_db = dbg.get_robe_db()\n",
    "armor_db = dbg.get_armor_db()\n",
    "shoes_db = dbg.get_shoes_db()\n",
    "accessory_db = dbg.get_accessory_db()\n",
    "\n",
    "db_package = (weapon_db, hat_db, shield_db, robe_db, armor_db, shoes_db, accessory_db)"
   ]
  },
  {
   "cell_type": "code",
   "execution_count": null,
   "metadata": {},
   "outputs": [],
   "source": [
    "class PlayerEquips:\n",
    "    def __init__(self, package):\n",
    "        self.armor = '(No Armor)'\n",
    "        self.weapon = '(No weapon)'\n",
    "        self.shield = '(No shield)'\n",
    "        self.robe = '(No robe)'\n",
    "        self.shoes = '(No shoes)'\n",
    "        self.accessory1 = '(No accessory1)'\n",
    "        self.accessory2 = '(No accessory2)'\n",
    "        self.tophat = '(No tophat)'\n",
    "        self.midhat = '(No midhat)'\n",
    "        self.lowhat = '(No lowhat)'\n",
    "        weapon_db = package[0]\n",
    "        hat_db = package[1]\n",
    "        shield_db = package[2]\n",
    "        robe_db = package[3]\n",
    "        armor_db = package[4]\n",
    "        shoes_db = package[5]\n",
    "        accessory_db = package[6]\n",
    "        \n",
    "    def equip(self, gear):\n",
    "        gear_id = gear['Id']\n",
    "        if(gear in armor_db.values()):\n",
    "            self.armor = gear\n",
    "        if(gear in shield_db.values()):\n",
    "            self.shield = gear\n",
    "        if(gear in robe_db.values()):\n",
    "            self.robe = gear\n",
    "        if(gear in shoes_db.values()):\n",
    "            self.shoes = gear\n",
    "        if(gear in accessory_db.values()):\n",
    "            if(type(self.accessory2) == dict):\n",
    "                self.accessory1 = gear\n",
    "            else:\n",
    "                self.accessory2 = gear\n",
    "        if(gear in hat_db.values()):\n",
    "            if(gear['Locations'] == {'Head_Low': True}):\n",
    "                self.lowhat = gear\n",
    "            if(gear['Locations'] == {'Head_Mid': True}):\n",
    "                self.midhat = gear\n",
    "            if(gear['Locations'] == {'Head_Top': True}):\n",
    "                self.tophat = gear\n",
    "            if(gear['Locations'] == {'Head_Mid': True, 'Head_Top': True}):\n",
    "                self.midhat = gear; self.tophat = gear\n",
    "            if(gear['Locations'] == {'Head_Mid': True, 'Head_Low': True}):\n",
    "                self.midhat = gear; self.lowhat = gear\n",
    "            if(gear['Locations'] == {'Head_Low': True, 'Head_Mid': True, 'Head_Top': True}):\n",
    "                self.tophat = gear; self.midhat = gear; self.lowhat = gear\n",
    "            \n",
    "        print(\"Equipando {}\".format(gear_id))\n",
    "        \n",
    "    def print_gear(self):\n",
    "        if(type(self.tophat) == dict):\n",
    "            print('[Cabeça Topo] → {}'.format(self.print_single_gear(self.tophat)))\n",
    "        if(type(self.midhat) == dict):\n",
    "            print('[Cabeça Meio] → {}'.format(self.print_single_gear(self.midhat)))\n",
    "        if(type(self.lowhat) == dict):\n",
    "            print('[Cabeça Baixo] → {}'.format(self.print_single_gear(self.lowhat)))\n",
    "        \n",
    "        if(type(self.armor) == dict):\n",
    "            print('[Armadura] → {}'.format(self.print_single_gear(self.armor)))\n",
    "        if(type(self.weapon) == dict):\n",
    "            print('[Mão direita] → {}'.format(self.print_single_gear(self.weapon)))\n",
    "        else:\n",
    "            print(\"[Mão direita] → Nothing\")\n",
    "        if(type(self.shield == dict)):\n",
    "            print('[Mão esquerda] → {}'.format(self.print_single_gear(self.shield)))\n",
    "        if(type(self.robe == dict)):\n",
    "            print('[Capa] → {}'.format(self.print_single_gear(self.robe)))\n",
    "        if(type(self.shoes == dict)):\n",
    "            print('[Sapatos] → {}'.format(self.print_single_gear(self.shoes)))\n",
    "        if(type(self.accessory1) == dict):\n",
    "            print('[Acessório] → {}'.format(self.print_single_gear(self.accessory1)))    \n",
    "        if(type(self.accessory2) == dict):\n",
    "            print('[Acessório] → {}'.format(self.print_single_gear(self.accessory2)))\n",
    "         \n",
    "    def print_single_gear(self, gear):\n",
    "        outstr = ''\n",
    "        if('Refining' in gear):\n",
    "            if(gear['Refining'] != 0):\n",
    "                outstr += '+{} '.format(gear['Refining'])\n",
    "        outstr += gear['Name']\n",
    "        if('Slots' in gear):\n",
    "            if(gear['Slots'] != 0):\n",
    "                outstr += ' [{}]'.format(gear['Slots'])\n",
    "        return outstr\n",
    "    \n",
    "    def refine_single_gear(self, choosen_gear, ammount):\n",
    "        if(choosen_gear == 'armor'):\n",
    "            self.armor['Refining'] = ammount\n",
    "        if(choosen_gear == 'shield'):\n",
    "            self.shield['Refining'] = ammount\n",
    "        if(choosen_gear == 'robe'):\n",
    "            self.robe['Refining'] = ammount\n",
    "        if(choosen_gear == 'shoes'):\n",
    "            self.shoes['Refining'] = ammount\n",
    "        if(choosen_gear == 'weapon'):\n",
    "            self.weapon['Refining'] = ammount"
   ]
  },
  {
   "cell_type": "code",
   "execution_count": null,
   "metadata": {},
   "outputs": [],
   "source": [
    "pe = PlayerEquips(db_package)"
   ]
  },
  {
   "cell_type": "code",
   "execution_count": null,
   "metadata": {},
   "outputs": [],
   "source": [
    "pe.equip(equip_db[2504])\n",
    "pe.refine_single_gear('robe', 5)\n",
    "\n",
    "pe.equip(equip_db[2407])\n",
    "pe.refine_single_gear('shoes', 7)\n",
    "\n",
    "pe.equip(equip_db[2102])\n",
    "pe.refine_single_gear('shield', 7)\n",
    "\n",
    "pe.equip(equip_db[2322])\n",
    "pe.refine_single_gear('armor', 7)\n",
    "\n",
    "pe.equip(equip_db[5353])  # sungod\n",
    "pe.equip(equip_db[2269])  # romantic flower\n",
    "pe.equip(equip_db[2626])  # rosary\n",
    "pe.equip(equip_db[2607])  # clip\n",
    "\n",
    "print(\"\")\n",
    "pe.print_gear()"
   ]
  },
  {
   "cell_type": "code",
   "execution_count": null,
   "metadata": {},
   "outputs": [],
   "source": []
  },
  {
   "cell_type": "code",
   "execution_count": null,
   "metadata": {},
   "outputs": [],
   "source": []
  },
  {
   "cell_type": "code",
   "execution_count": null,
   "metadata": {},
   "outputs": [],
   "source": []
  },
  {
   "cell_type": "code",
   "execution_count": null,
   "metadata": {},
   "outputs": [],
   "source": []
  },
  {
   "cell_type": "code",
   "execution_count": null,
   "metadata": {},
   "outputs": [],
   "source": []
  },
  {
   "cell_type": "code",
   "execution_count": null,
   "metadata": {},
   "outputs": [],
   "source": []
  },
  {
   "cell_type": "code",
   "execution_count": null,
   "metadata": {},
   "outputs": [],
   "source": [
    "class Equip:\n",
    "    def __init__(self, unique_id, name, main_type, subtype, weight, base_attack, slots, joblist, weapon_level, min_level, refineable):\n",
    "        print(\"olá\")"
   ]
  },
  {
   "cell_type": "code",
   "execution_count": null,
   "metadata": {},
   "outputs": [],
   "source": []
  },
  {
   "cell_type": "code",
   "execution_count": null,
   "metadata": {},
   "outputs": [],
   "source": []
  },
  {
   "cell_type": "code",
   "execution_count": null,
   "metadata": {},
   "outputs": [],
   "source": []
  },
  {
   "cell_type": "code",
   "execution_count": null,
   "metadata": {},
   "outputs": [],
   "source": []
  },
  {
   "cell_type": "code",
   "execution_count": null,
   "metadata": {},
   "outputs": [],
   "source": []
  },
  {
   "cell_type": "code",
   "execution_count": null,
   "metadata": {},
   "outputs": [],
   "source": []
  },
  {
   "cell_type": "code",
   "execution_count": null,
   "metadata": {},
   "outputs": [],
   "source": [
    "class PlayerBuild:\n",
    "    def __init__(self, base_level, job_level, current_job, statbuild, gearset):\n",
    "        self.base_level = base_level\n",
    "        self.job_level = job_level\n",
    "        self.current_job = current_job\n",
    "        self.statbuild = statbuild\n",
    "        self.gearset = gearset\n",
    "        self.str = statbuild[0];\tself.str_bonus = 0;\tself.core_str = self.str\n",
    "        self.agi = statbuild[1];\tself.agi_bonus = 0;\tself.core_agi = self.agi\n",
    "        self.vit = statbuild[2];\tself.vit_bonus = 0;\tself.core_vit = self.vit\n",
    "        self.int = statbuild[3];\tself.int_bonus = 0;\tself.core_int = self.int\n",
    "        self.dex = statbuild[4];\tself.dex_bonus = 0;\tself.core_dex = self.dex\n",
    "        self.luk = statbuild[5];\tself.luk_bonus = 0;\tself.core_luk = self.luk\n",
    "        \n",
    "        #arquivos\n",
    "        self.hp_df = pd.read_csv ('max_hp_table.csv')\n",
    "        self.job_bonuses = job_bonuses_list[current_job]['FULL_BONUSES']\n",
    "        self.max_job = job_bonuses_list[current_job]['MAX_JOB']\n",
    "        \n",
    "        # incremento dos atributos de acordo com o nível atual de classe\n",
    "        self.str_bonus = self.evaluate_stat_bonus(self.job_level, job_bonuses_list[current_job]['STR'])\n",
    "        self.agi_bonus = self.evaluate_stat_bonus(self.job_level, job_bonuses_list[current_job]['AGI'])\n",
    "        self.vit_bonus = self.evaluate_stat_bonus(self.job_level, job_bonuses_list[current_job]['VIT'])\n",
    "        self.int_bonus = self.evaluate_stat_bonus(self.job_level, job_bonuses_list[current_job]['INT'])\n",
    "        self.dex_bonus = self.evaluate_stat_bonus(self.job_level, job_bonuses_list[current_job]['DEX'])\n",
    "        self.luk_bonus = self.evaluate_stat_bonus(self.job_level, job_bonuses_list[current_job]['LUK'])\n",
    "        \n",
    "        # somatórios de status\n",
    "        self.str += self.str_bonus; self.agi += self.agi_bonus; self.vit += self.vit_bonus;\n",
    "        self.int += self.int_bonus; self.dex += self.dex_bonus; self.luk += self.luk_bonus;\n",
    "        \n",
    "        # esquiva, precisão, crítico e bônus de regen\n",
    "        self.flee_bonuses = 0\n",
    "        self.hit_bonuses = 0\n",
    "        self.crit_bonuses = 0\n",
    "        self.hpr_mod = 0\n",
    "        self.spr_mod = 0\n",
    "        \n",
    "        # cálculo do HP\n",
    "        self.trans_mod = job_bonuses_list[current_job]['TRANS_MOD']\n",
    "        self.aditive_modifiers = 0\n",
    "        self.multiplicative_modifiers = 0\n",
    "        self.base_hp = list(self.hp_df[self.current_job])[self.base_level]\n",
    "        self.max_hp = self.calculate_max_hp()\n",
    "        \n",
    "        # cálculo do SP\n",
    "        self.sp_mod_a = 0\n",
    "        self.sp_mod_b = 0\n",
    "        self.max_sp = self.calculate_max_sp()\n",
    "        \n",
    "        # calcular parâmetros derivados\n",
    "        self.calculate_derivative_stats()\n",
    "        \n",
    "    def calculate_derivative_stats(self):\n",
    "        # esquiva\n",
    "        self.flee = self.agi + self.flee_bonuses + self.base_level\n",
    "        self.perfect_dodge_bonuses = 0\n",
    "        self.perfect_flee = 1 + math.floor(1/10*self.luk) + self.perfect_dodge_bonuses\n",
    "        self.true_perfect_flee = 1 + 1/10*self.luk + self.perfect_dodge_bonuses\n",
    "        \n",
    "        # precisão\n",
    "        self.hit = self.dex + self.hit_bonuses + self.base_level\n",
    "        \n",
    "        # crítico\n",
    "        self.crit_rate = 1 + math.floor(1/3*self.luk + self.crit_bonuses)\n",
    "        self.crit_truerate = 1 + (1/3*self.luk + self.crit_bonuses)\n",
    "        self.crit_shield = 1 + (0.2*self.luk)\n",
    "        \n",
    "        # hp regen\n",
    "        hpr = max(1, math.floor(self.max_hp / 200))\n",
    "        hpr += math.floor(self.vit / 5)\n",
    "        self.hpr = math.floor(hpr *(1 + (self.hpr_mod * 0.01)))\n",
    "        \n",
    "        # sp regen\n",
    "        spr = 1 + (math.floor(self.max_sp/100))\n",
    "        spr += math.floor(self.int / 6)\n",
    "        if(self.int >= 120):\n",
    "            spr += math.floor((self.int/2)-56)\n",
    "        self.spr = math.floor(spr*(1 + (self.spr_mod * 0.01)))\n",
    "        \n",
    "    def calculate_base_hp(self):\n",
    "        hp_job_a = job_bonuses_list[current_job]['HP_JOB_A']\n",
    "        hp_job_b = job_bonuses_list[current_job]['HP_JOB_B']\n",
    "        base_hp = 35 + (self.base_level * hp_job_b)\n",
    "        for i in range(2, self.base_level + 1):\n",
    "            base_hp = base_hp + round(hp_job_a * i)\n",
    "        return (base_hp)\n",
    "    \n",
    "    def calculate_max_hp(self):\n",
    "        max_hp = math.floor(self.base_hp * (1+(0.01*self.vit)))\n",
    "        max_hp += self.aditive_modifiers\n",
    "        max_hp = math.floor(max_hp * (1 + (self.multiplicative_modifiers*0.01)))\n",
    "        return max_hp\n",
    "    \n",
    "    def calculate_max_sp(self):\n",
    "        base_sp = 10\n",
    "        base_sp += math.floor(self.base_level * job_bonuses_list[self.current_job]['SP_JOB'])\n",
    "        max_sp = base_sp\n",
    "        max_sp = math.floor(max_sp * (1 + (self.int*0.01)))\n",
    "        max_sp += self.sp_mod_a\n",
    "        max_sp = math.floor(max_sp * (1 + (self.sp_mod_b * 0.01)))\n",
    "        return max_sp\n",
    "    \n",
    "    def evaluate_stat_bonus(self, job_level, stat_array):\n",
    "        if(not stat_array):\n",
    "            return 0\n",
    "        for i in range(len(stat_array) -1, -2, -1):\n",
    "            k = i + 1\n",
    "            if(k==0):\n",
    "                break\n",
    "            if(job_level >= stat_array[i]):\n",
    "                break\n",
    "        return k\n",
    "    \n",
    "    def printbuild(self):\n",
    "        print(\"Base level → {}\".format(self.base_level))\n",
    "        print(\"Job level → {}\".format(self.job_level))\n",
    "        print(\"Class → {}\".format(self.current_job))\n",
    "        print(\"\")\n",
    "        \n",
    "        if(self.str_bonus == 0):\n",
    "            print(\"\t[str] → {}\".format(self.core_str))\n",
    "        else:\n",
    "            print('\t[str] → {} +{}'.format(self.core_str, self.str_bonus))\n",
    "            \n",
    "        if(self.agi_bonus == 0):\n",
    "            print(\"\t[agi] → {}\".format(self.core_agi))\n",
    "        else:\n",
    "            print('\t[agi] → {} +{}'.format(self.core_agi, self.agi_bonus))\n",
    "            \n",
    "        if(self.vit_bonus == 0):\n",
    "            print(\"\t[vit] → {}\".format(self.core_vit))\n",
    "        else:\n",
    "            print('\t[vit] → {} +{}'.format(self.core_vit, self.vit_bonus))\n",
    "            \n",
    "        if(self.int_bonus == 0):\n",
    "            print(\"\t[int] → {}\".format(self.core_int))\n",
    "        else:\n",
    "            print('\t[int] → {} +{}'.format(self.core_int, self.int_bonus))\n",
    "            \n",
    "        if(self.dex_bonus == 0):\n",
    "            print(\"\t[dex] → {}\".format(self.core_dex))\n",
    "        else:\n",
    "            print('\t[dex] → {} +{}'.format(self.core_dex, self.dex_bonus))\n",
    "            \n",
    "        if(self.luk_bonus == 0):\n",
    "            print(\"\t[luk] → {}\".format(self.core_luk))\n",
    "        else:\n",
    "            print('\t[luk] → {} +{}'.format(self.core_luk, self.luk_bonus))\n",
    "        \n",
    "        print(\"\")\n",
    "        print(\"max_hp → {}\".format(self.max_hp))\n",
    "        print(\"max_sp → {}\".format(self.max_sp))\n",
    "        print('hp_regen → {}'.format(self.hpr))\n",
    "        print('sp_regen → {}'.format(self.spr))\n",
    "        print(\"\")\n",
    "        print(\"hit → {}\".format(self.hit))\n",
    "        print(\"flee → {} +{}      (true_pdodge → {})\".format(self.flee, self.perfect_flee, self.true_perfect_flee))\n",
    "        print(\"critical → {}       (true_critical → {})\".format(self.crit_rate, self.crit_truerate))\n",
    "        print('crit_shield → {}'.format(self.crit_shield))\n",
    "        "
   ]
  },
  {
   "cell_type": "code",
   "execution_count": null,
   "metadata": {},
   "outputs": [],
   "source": [
    "p1 = PlayerBuild(99, 50, 'knight', [1, 1, 1, 1, 1, 1], pe)\n",
    "p1.printbuild()"
   ]
  },
  {
   "cell_type": "code",
   "execution_count": null,
   "metadata": {},
   "outputs": [],
   "source": []
  },
  {
   "cell_type": "code",
   "execution_count": null,
   "metadata": {},
   "outputs": [],
   "source": []
  },
  {
   "cell_type": "markdown",
   "metadata": {},
   "source": [
    "# <font color='red'>Criar sistema de escudos</font>"
   ]
  },
  {
   "cell_type": "code",
   "execution_count": null,
   "metadata": {},
   "outputs": [],
   "source": []
  },
  {
   "cell_type": "code",
   "execution_count": null,
   "metadata": {},
   "outputs": [],
   "source": []
  },
  {
   "cell_type": "code",
   "execution_count": null,
   "metadata": {},
   "outputs": [],
   "source": []
  },
  {
   "cell_type": "code",
   "execution_count": null,
   "metadata": {},
   "outputs": [],
   "source": []
  },
  {
   "cell_type": "code",
   "execution_count": null,
   "metadata": {},
   "outputs": [],
   "source": []
  },
  {
   "cell_type": "code",
   "execution_count": null,
   "metadata": {},
   "outputs": [],
   "source": []
  },
  {
   "cell_type": "code",
   "execution_count": null,
   "metadata": {},
   "outputs": [],
   "source": []
  },
  {
   "cell_type": "code",
   "execution_count": null,
   "metadata": {},
   "outputs": [],
   "source": []
  },
  {
   "cell_type": "code",
   "execution_count": null,
   "metadata": {},
   "outputs": [],
   "source": []
  },
  {
   "cell_type": "code",
   "execution_count": null,
   "metadata": {},
   "outputs": [],
   "source": []
  },
  {
   "cell_type": "code",
   "execution_count": null,
   "metadata": {},
   "outputs": [],
   "source": []
  },
  {
   "cell_type": "code",
   "execution_count": null,
   "metadata": {},
   "outputs": [],
   "source": []
  },
  {
   "cell_type": "code",
   "execution_count": null,
   "metadata": {},
   "outputs": [],
   "source": []
  },
  {
   "cell_type": "code",
   "execution_count": null,
   "metadata": {},
   "outputs": [],
   "source": []
  },
  {
   "cell_type": "code",
   "execution_count": null,
   "metadata": {},
   "outputs": [],
   "source": []
  },
  {
   "cell_type": "code",
   "execution_count": null,
   "metadata": {},
   "outputs": [],
   "source": []
  },
  {
   "cell_type": "code",
   "execution_count": null,
   "metadata": {},
   "outputs": [],
   "source": []
  },
  {
   "cell_type": "code",
   "execution_count": null,
   "metadata": {},
   "outputs": [],
   "source": []
  },
  {
   "cell_type": "code",
   "execution_count": null,
   "metadata": {},
   "outputs": [],
   "source": []
  },
  {
   "cell_type": "code",
   "execution_count": null,
   "metadata": {},
   "outputs": [],
   "source": []
  },
  {
   "cell_type": "code",
   "execution_count": null,
   "metadata": {},
   "outputs": [],
   "source": []
  },
  {
   "cell_type": "code",
   "execution_count": null,
   "metadata": {},
   "outputs": [],
   "source": []
  },
  {
   "cell_type": "code",
   "execution_count": null,
   "metadata": {},
   "outputs": [],
   "source": []
  },
  {
   "cell_type": "code",
   "execution_count": null,
   "metadata": {},
   "outputs": [],
   "source": []
  }
 ],
 "metadata": {
  "kernelspec": {
   "display_name": "Python 3",
   "language": "python",
   "name": "python3"
  },
  "language_info": {
   "codemirror_mode": {
    "name": "ipython",
    "version": 3
   },
   "file_extension": ".py",
   "mimetype": "text/x-python",
   "name": "python",
   "nbconvert_exporter": "python",
   "pygments_lexer": "ipython3",
   "version": "3.7.3"
  }
 },
 "nbformat": 4,
 "nbformat_minor": 2
}
