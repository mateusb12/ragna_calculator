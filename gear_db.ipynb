{
 "cells": [
  {
   "cell_type": "code",
   "execution_count": 6,
   "metadata": {},
   "outputs": [],
   "source": [
    "class db_generator:\n",
    "    def __init__(self):\n",
    "        import yaml\n",
    "        import math\n",
    "        import pandas as pd\n",
    "        \n",
    "        with open(r'C:\\Pythonfundamentos\\Remember\\calculadora\\item_db_equip.yml') as file:\n",
    "            equip_list = yaml.load(file, Loader=yaml.FullLoader)\n",
    "            equip_main_dict = equip_list['Body']\n",
    "            equip_database = dict()\n",
    "            \n",
    "            for i in range(len(equip_main_dict)):\n",
    "                equip_database[equip_main_dict[i]['Id']] = equip_main_dict[i]\n",
    "                \n",
    "        self.equip_database = equip_database\n",
    "        \n",
    "        print(\"Database carregado com sucesso!\")\n",
    "        \n",
    "    def normalize_missing_params(self, input_db):\n",
    "        copy_db = input_db\n",
    "        checklist = {'Id': 0, 'Name': '', 'Weight': 0, 'Defense': 0, 'Slots': 0, 'Jobs': {'All': True}, 'Classes': {'All': True}, 'Gender': 'Both', 'Locations': 'None', 'EquipLevelMin': 0, 'Refineable': False, 'View': 0, 'Script': 0, 'Refining': 0}\n",
    "        for i in checklist.keys():\n",
    "            if(i not in input_db):\n",
    "                copy_db[i] = checklist[i]\n",
    "        return copy_db\n",
    "    \n",
    "    def normalize_weapon_params(self, input_db):\n",
    "        copy_db = input_db\n",
    "        checklist = {'Id': 0, 'Name': '', 'Type': 'Undefined', 'SubType': 'Undefined', 'Weight': 0, 'Attack': 0, 'Range': 0, 'Slots': 0, 'Jobs': {'All': True}, 'Classes': {'All': True}, 'Gender': 'Both', 'Locations': 'None', 'WeaponLevel': 0, 'EquipLevelMin': 0, 'Refineable': False, 'View': 0, 'Script': 0, 'Refining': 0}\n",
    "        for i in checklist.keys():\n",
    "            if(i not in input_db):\n",
    "                copy_db[i] = checklist[i]\n",
    "        return copy_db\n",
    "    \n",
    "    def getEquip_DB(self):\n",
    "        return self.equip_database\n",
    "    \n",
    "    def getShield_DB(self):\n",
    "        shield_database = {}\n",
    "        equip_database = self.equip_database\n",
    "        for i in equip_database.values():\n",
    "            if('Locations' in i and 'Type' in i):\n",
    "                if(i['Locations'] == {'Left_Hand': True} and i['Type'] == 'Armor'):\n",
    "                    shield_database[i['Id']] = self.normalize_missing_params(i)\n",
    "        return shield_database\n",
    "    \n",
    "    def getRobe_DB(self):\n",
    "        robe_database = {}\n",
    "        equip_database = self.equip_database\n",
    "        for i in equip_database.values():\n",
    "            if('Locations' in i):\n",
    "                if(i['Locations'] == {'Garment': True}):\n",
    "                    robe_database[i['Id']] = self.normalize_missing_params(i)\n",
    "        return robe_database\n",
    "                    \n",
    "    def getShoes_DB(self):\n",
    "        shoes_database = {}\n",
    "        equip_database = self.equip_database\n",
    "        for i in equip_database.values():\n",
    "            if('Locations' in i):\n",
    "                if(i['Locations'] == {'Shoes': True}):\n",
    "                    shoes_database[i['Id']] = self.normalize_missing_params(i)\n",
    "        return shoes_database\n",
    "    \n",
    "    def getAcessory_DB(self):\n",
    "        acessory_database = {}\n",
    "        equip_database = self.equip_database\n",
    "        for i in equip_database.values():\n",
    "            if('Locations' in i):\n",
    "                if(i['Locations'] == {'Right_Accessory': True, 'Left_Accessory': True}):\n",
    "                    acessory_database[i['Id']] = self.normalize_missing_params(i)\n",
    "        return acessory_database\n",
    "    \n",
    "    def getArmor_DB(self):\n",
    "        armor_database = {}\n",
    "        equip_database = self.equip_database\n",
    "        for i in equip_database.values():\n",
    "            if('Locations' in i):\n",
    "                if(i['Locations'] == {'Armor': True}):\n",
    "                    armor_database[i['Id']] = self.normalize_missing_params(i)\n",
    "        return armor_database\n",
    "    \n",
    "    def getHat_DB(self):\n",
    "        hat_database = {}\n",
    "        equip_database = self.equip_database\n",
    "        for i in equip_database.values():\n",
    "            if('Locations' in i):\n",
    "                if(((('Head_Top' or 'Head_Mid') or 'Head_Low') in i['Locations']) == True):\n",
    "                    hat_database[i['Id']] = self.normalize_missing_params(i)\n",
    "        return hat_database\n",
    "    \n",
    "    def getWeapon_DB(self):\n",
    "        weapon_database = {}\n",
    "        equip_database = self.equip_database\n",
    "        for i in equip_database.values():\n",
    "            if('Locations' in i):\n",
    "                if(i['Type'] == 'Weapon'):\n",
    "                    weapon_database[i['Id']] = self.normalize_weapon_params(i)\n",
    "        return weapon_database"
   ]
  },
  {
   "cell_type": "code",
   "execution_count": 7,
   "metadata": {
    "scrolled": true
   },
   "outputs": [
    {
     "name": "stdout",
     "output_type": "stream",
     "text": [
      "Database carregado com sucesso!\n"
     ]
    }
   ],
   "source": [
    "dbg = db_generator()"
   ]
  },
  {
   "cell_type": "code",
   "execution_count": 9,
   "metadata": {},
   "outputs": [
    {
     "data": {
      "text/plain": [
       "{'Id': 1714,\n",
       " 'AegisName': 'Kakkung',\n",
       " 'Name': 'Gakkung Bow',\n",
       " 'Type': 'Weapon',\n",
       " 'SubType': 'Bow',\n",
       " 'Buy': 42000,\n",
       " 'Weight': 1100,\n",
       " 'Attack': 100,\n",
       " 'Range': 5,\n",
       " 'Slots': 1,\n",
       " 'Jobs': {'Archer': True,\n",
       "  'BardDancer': True,\n",
       "  'Hunter': True,\n",
       "  'Rogue': True,\n",
       "  'Thief': True},\n",
       " 'Locations': {'Right_Hand': True, 'Left_Hand': True},\n",
       " 'WeaponLevel': 3,\n",
       " 'EquipLevelMin': 33,\n",
       " 'Refineable': True,\n",
       " 'Classes': {'All': True},\n",
       " 'Gender': 'Both',\n",
       " 'View': 0,\n",
       " 'Script': 0}"
      ]
     },
     "execution_count": 9,
     "metadata": {},
     "output_type": "execute_result"
    }
   ],
   "source": [
    "dbg.getWeapon_DB()[1714]"
   ]
  },
  {
   "cell_type": "code",
   "execution_count": 5,
   "metadata": {},
   "outputs": [
    {
     "data": {
      "text/plain": [
       "{'Id': 1714,\n",
       " 'AegisName': 'Kakkung',\n",
       " 'Name': 'Gakkung Bow',\n",
       " 'Type': 'Weapon',\n",
       " 'SubType': 'Bow',\n",
       " 'Buy': 42000,\n",
       " 'Weight': 1100,\n",
       " 'Attack': 100,\n",
       " 'Range': 5,\n",
       " 'Slots': 1,\n",
       " 'Jobs': {'Archer': True,\n",
       "  'BardDancer': True,\n",
       "  'Hunter': True,\n",
       "  'Rogue': True,\n",
       "  'Thief': True},\n",
       " 'Locations': {'Right_Hand': True, 'Left_Hand': True},\n",
       " 'WeaponLevel': 3,\n",
       " 'EquipLevelMin': 33,\n",
       " 'Refineable': True}"
      ]
     },
     "execution_count": 5,
     "metadata": {},
     "output_type": "execute_result"
    }
   ],
   "source": [
    "dbg.getEquip_DB()[1714]"
   ]
  },
  {
   "cell_type": "markdown",
   "metadata": {},
   "source": [
    "# <font color='red'>Escudos</font>"
   ]
  },
  {
   "cell_type": "code",
   "execution_count": null,
   "metadata": {},
   "outputs": [],
   "source": []
  },
  {
   "cell_type": "markdown",
   "metadata": {},
   "source": [
    "# <font color='red'>Capas</font>"
   ]
  },
  {
   "cell_type": "code",
   "execution_count": null,
   "metadata": {},
   "outputs": [],
   "source": []
  },
  {
   "cell_type": "markdown",
   "metadata": {},
   "source": [
    "# <font color='red'>Botas</font>"
   ]
  },
  {
   "cell_type": "code",
   "execution_count": null,
   "metadata": {},
   "outputs": [],
   "source": []
  },
  {
   "cell_type": "code",
   "execution_count": null,
   "metadata": {},
   "outputs": [],
   "source": []
  },
  {
   "cell_type": "markdown",
   "metadata": {},
   "source": [
    "# <font color='red'>Acessórios</font>"
   ]
  },
  {
   "cell_type": "code",
   "execution_count": null,
   "metadata": {},
   "outputs": [],
   "source": []
  },
  {
   "cell_type": "markdown",
   "metadata": {},
   "source": [
    "# <font color='red'>Armadura</font>"
   ]
  },
  {
   "cell_type": "code",
   "execution_count": null,
   "metadata": {},
   "outputs": [],
   "source": []
  },
  {
   "cell_type": "markdown",
   "metadata": {},
   "source": [
    "# <font color='red'>Hat</font>"
   ]
  },
  {
   "cell_type": "code",
   "execution_count": null,
   "metadata": {},
   "outputs": [],
   "source": []
  },
  {
   "cell_type": "code",
   "execution_count": null,
   "metadata": {},
   "outputs": [],
   "source": []
  },
  {
   "cell_type": "code",
   "execution_count": null,
   "metadata": {},
   "outputs": [],
   "source": []
  },
  {
   "cell_type": "code",
   "execution_count": null,
   "metadata": {},
   "outputs": [],
   "source": []
  },
  {
   "cell_type": "code",
   "execution_count": null,
   "metadata": {},
   "outputs": [],
   "source": []
  },
  {
   "cell_type": "code",
   "execution_count": null,
   "metadata": {},
   "outputs": [],
   "source": []
  }
 ],
 "metadata": {
  "kernelspec": {
   "display_name": "Python 3",
   "language": "python",
   "name": "python3"
  },
  "language_info": {
   "codemirror_mode": {
    "name": "ipython",
    "version": 3
   },
   "file_extension": ".py",
   "mimetype": "text/x-python",
   "name": "python",
   "nbconvert_exporter": "python",
   "pygments_lexer": "ipython3",
   "version": "3.7.3"
  }
 },
 "nbformat": 4,
 "nbformat_minor": 2
}
