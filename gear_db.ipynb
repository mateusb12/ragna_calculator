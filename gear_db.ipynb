{
 "cells": [
  {
   "cell_type": "code",
   "execution_count": 2,
   "metadata": {},
   "outputs": [],
   "source": [
    "import yaml\n",
    "import math\n",
    "import pandas as pd\n",
    "\n",
    "with open(r'C:\\Pythonfundamentos\\Remember\\calculadora\\item_db_equip.yml') as file:\n",
    "    # The FullLoader parameter handles the conversion from YAML\n",
    "    # scalar values to Python the dictionary format\n",
    "    equip_list = yaml.load(file, Loader=yaml.FullLoader)\n",
    "    equip_main_dict = equip_list['Body']\n",
    "    equip_database = dict()\n",
    "\n",
    "    for i in range(len(equip_main_dict)):\n",
    "        equip_database[equip_main_dict[i]['Id']] = equip_main_dict[i]"
   ]
  },
  {
   "cell_type": "markdown",
   "metadata": {},
   "source": [
    "# <font color='red'>Escudos</font>"
   ]
  },
  {
   "cell_type": "code",
   "execution_count": 13,
   "metadata": {},
   "outputs": [],
   "source": [
    "def normalize_missing_params(input_db):\n",
    "    copy_db = input_db\n",
    "    checklist = {'Id': 0, 'Name': '', 'Weight': 0, 'Defense': 0, 'Slots': 0, 'Jobs': {'All': True}, 'Classes': {'All': True}, 'Gender': 'Both', 'Locations': 'None', 'EquipLevelMin': 0, 'Refineable': False, 'View': 0, 'Script': 0}\n",
    "    for i in checklist.keys():\n",
    "        if(i not in input_db):\n",
    "            copy_db[i] = checklist[i]\n",
    "    return copy_db\n",
    "\n",
    "shield_database = {}\n",
    "for i in equip_database.values():\n",
    "    if('Locations' in i and 'Type' in i):\n",
    "        if(i['Locations'] == {'Left_Hand': True} and i['Type'] == 'Armor'):\n",
    "            shield_database[i['Id']] = normalize_missing_params(i)"
   ]
  },
  {
   "cell_type": "markdown",
   "metadata": {},
   "source": [
    "# <font color='red'>Capas</font>"
   ]
  },
  {
   "cell_type": "code",
   "execution_count": 15,
   "metadata": {},
   "outputs": [],
   "source": [
    "robe_database = {}\n",
    "for i in equip_database.values():\n",
    "    if('Locations' in i):\n",
    "        if(i['Locations'] == {'Garment': True}):\n",
    "            robe_database[i['Id']] = normalize_missing_params(i)"
   ]
  },
  {
   "cell_type": "markdown",
   "metadata": {},
   "source": [
    "# <font color='red'>Botas</font>"
   ]
  },
  {
   "cell_type": "code",
   "execution_count": 23,
   "metadata": {},
   "outputs": [],
   "source": [
    "shoes_database = {}\n",
    "for i in equip_database.values():\n",
    "    if('Locations' in i):\n",
    "        if(i['Locations'] == {'Shoes': True}):\n",
    "            shoes_database[i['Id']] = normalize_missing_params(i)"
   ]
  },
  {
   "cell_type": "code",
   "execution_count": 24,
   "metadata": {},
   "outputs": [],
   "source": [
    "#for i in shoes_database.values():\n",
    "#    print('{}\\n'.format(i))"
   ]
  },
  {
   "cell_type": "markdown",
   "metadata": {},
   "source": [
    "# <font color='red'>Acessórios</font>"
   ]
  },
  {
   "cell_type": "code",
   "execution_count": 25,
   "metadata": {},
   "outputs": [],
   "source": [
    "acessory_database = {}\n",
    "for i in equip_database.values():\n",
    "    if('Locations' in i):\n",
    "        if(i['Locations'] == {'Right_Accessory': True, 'Left_Accessory': True}):\n",
    "            acessory_database[i['Id']] = normalize_missing_params(i)"
   ]
  },
  {
   "cell_type": "markdown",
   "metadata": {},
   "source": [
    "# <font color='red'>Armadura</font>"
   ]
  },
  {
   "cell_type": "code",
   "execution_count": 29,
   "metadata": {},
   "outputs": [],
   "source": [
    "armor_database = {}\n",
    "for i in equip_database.values():\n",
    "    if('Locations' in i):\n",
    "        if(i['Locations'] == {'Armor': True}):\n",
    "            armor_database[i['Id']] = normalize_missing_params(i)"
   ]
  },
  {
   "cell_type": "code",
   "execution_count": null,
   "metadata": {},
   "outputs": [],
   "source": []
  },
  {
   "cell_type": "code",
   "execution_count": null,
   "metadata": {},
   "outputs": [],
   "source": []
  },
  {
   "cell_type": "code",
   "execution_count": null,
   "metadata": {},
   "outputs": [],
   "source": []
  }
 ],
 "metadata": {
  "kernelspec": {
   "display_name": "Python 3",
   "language": "python",
   "name": "python3"
  },
  "language_info": {
   "codemirror_mode": {
    "name": "ipython",
    "version": 3
   },
   "file_extension": ".py",
   "mimetype": "text/x-python",
   "name": "python",
   "nbconvert_exporter": "python",
   "pygments_lexer": "ipython3",
   "version": "3.7.3"
  }
 },
 "nbformat": 4,
 "nbformat_minor": 2
}
